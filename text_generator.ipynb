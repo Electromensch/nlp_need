{
  "nbformat": 4,
  "nbformat_minor": 0,
  "metadata": {
    "colab": {
      "provenance": [],
      "collapsed_sections": [],
      "authorship_tag": "ABX9TyPZglRiXBnWIYrvKVeqX5Ct",
      "include_colab_link": true
    },
    "kernelspec": {
      "name": "python3",
      "display_name": "Python 3"
    },
    "language_info": {
      "name": "python"
    }
  },
  "cells": [
    {
      "cell_type": "markdown",
      "metadata": {
        "id": "view-in-github",
        "colab_type": "text"
      },
      "source": [
        "<a href=\"https://colab.research.google.com/github/Electromensch/nlp_need/blob/main/text_generator.ipynb\" target=\"_parent\"><img src=\"https://colab.research.google.com/assets/colab-badge.svg\" alt=\"Open In Colab\"/></a>"
      ]
    },
    {
      "cell_type": "code",
      "source": [
        "!python --version"
      ],
      "metadata": {
        "id": "eyKDoAF1bhCX",
        "outputId": "6e753738-414c-46b9-fdc1-253f9357d6ba",
        "colab": {
          "base_uri": "https://localhost:8080/"
        }
      },
      "execution_count": null,
      "outputs": [
        {
          "output_type": "stream",
          "name": "stdout",
          "text": [
            "Python 3.7.14\n"
          ]
        }
      ]
    },
    {
      "cell_type": "code",
      "source": [
        "import nltk"
      ],
      "metadata": {
        "id": "EQ4Pqsh1B97U"
      },
      "execution_count": 1,
      "outputs": []
    },
    {
      "cell_type": "code",
      "source": [
        "import pickle"
      ],
      "metadata": {
        "id": "HCATJYaSOVH5"
      },
      "execution_count": 2,
      "outputs": []
    },
    {
      "cell_type": "code",
      "source": [
        "from tqdm import tqdm\n",
        "from collections import defaultdict\n",
        "from nltk.corpus import stopwords"
      ],
      "metadata": {
        "id": "8beMm2FXEDki"
      },
      "execution_count": 3,
      "outputs": []
    },
    {
      "cell_type": "code",
      "source": [
        "import numpy as np\n",
        "import re\n",
        "import pandas as pd\n",
        "from collections import Counter\n",
        "from copy import deepcopy"
      ],
      "metadata": {
        "id": "2LdZxidpLwpo"
      },
      "execution_count": 4,
      "outputs": []
    },
    {
      "cell_type": "code",
      "source": [
        "from google.colab import drive\n",
        "drive.mount('/content/drive')"
      ],
      "metadata": {
        "colab": {
          "base_uri": "https://localhost:8080/"
        },
        "id": "qLFjDDIUMITN",
        "outputId": "143db0ed-8756-4cc3-a962-949bc6bf605d"
      },
      "execution_count": 5,
      "outputs": [
        {
          "output_type": "stream",
          "name": "stdout",
          "text": [
            "Mounted at /content/drive\n"
          ]
        }
      ]
    },
    {
      "cell_type": "code",
      "source": [
        "df = pd.read_pickle('/content/drive/MyDrive/mypickle3')"
      ],
      "metadata": {
        "id": "red1sQ9qMdDG"
      },
      "execution_count": 6,
      "outputs": []
    },
    {
      "cell_type": "code",
      "source": [
        "df.head()"
      ],
      "metadata": {
        "colab": {
          "base_uri": "https://localhost:8080/",
          "height": 337
        },
        "id": "RM2i9d9gNSNO",
        "outputId": "6da59c48-a222-4a2e-e7e0-8eb185a03a7b"
      },
      "execution_count": null,
      "outputs": [
        {
          "output_type": "execute_result",
          "data": {
            "text/plain": [
              "                                           sentences   text  \\\n",
              "0  Вот принесли эти задания в колледж, надо решит...  Tesak   \n",
              "1  Когда-то у меня по химии была пятерка, а я по ...  Tesak   \n",
              "2  На зоне не нужно больше знать и уметь, кроме с...  Tesak   \n",
              "3  Только  я сказал, сразу меня начали просить по...  Tesak   \n",
              "4  Мы садимся, я открываю эти задачи и понимаю, ч...  Tesak   \n",
              "\n",
              "                                                 ner  \\\n",
              "0  [(Вот, O), (принесли, O), (эти, O), (задания, ...   \n",
              "1  [(Когда-то, O), (у, O), (меня, O), (по, O), (х...   \n",
              "2  [(На, O), (зоне, O), (не, O), (нужно, O), (бол...   \n",
              "3  [(Только, O), (я, O), (сказал, O), (,, O), (ср...   \n",
              "4  [(Мы, O), (садимся, O), (,, O), (я, O), (откры...   \n",
              "\n",
              "                                              tokens  \\\n",
              "0  [Вот, принесли, эти, задания, в, колледж, ,, н...   \n",
              "1  [Когда-то, у, меня, по, химии, была, пятерка, ...   \n",
              "2  [На, зоне, не, нужно, больше, знать, и, уметь,...   \n",
              "3  [Только, я, сказал, ,, сразу, меня, начали, пр...   \n",
              "4  [Мы, садимся, ,, я, открываю, эти, задачи, и, ...   \n",
              "\n",
              "                                                tags  \\\n",
              "0  [(Вот, PRCL), (принесли, VERB), (эти, ADJF), (...   \n",
              "1  [(Когда-то, ADVB), (у, PREP), (меня, NPRO), (п...   \n",
              "2  [(На, PREP), (зоне, NOUN), (не, PRCL), (нужно,...   \n",
              "3  [(Только, PRCL), (я, NPRO), (сказал, VERB), (,...   \n",
              "4  [(Мы, NPRO), (садимся, VERB), (,, None), (я, N...   \n",
              "\n",
              "                                             ner_new ner_final  \n",
              "0  [(Вот, O), (принесли, O), (эти, O), (задания, ...        []  \n",
              "1  [(Когда-то, O), (у, O), (меня, O), (по, O), (х...        []  \n",
              "2  [(На, O), (зоне, O), (не, O), (нужно, O), (бол...        []  \n",
              "3  [(Только, O), (я, O), (сказал, O), (,, O), (ср...        []  \n",
              "4  [(Мы, O), (садимся, O), (,, O), (я, O), (откры...        []  "
            ],
            "text/html": [
              "\n",
              "  <div id=\"df-f013b662-494c-4406-bf4a-f5d6b27a0c47\">\n",
              "    <div class=\"colab-df-container\">\n",
              "      <div>\n",
              "<style scoped>\n",
              "    .dataframe tbody tr th:only-of-type {\n",
              "        vertical-align: middle;\n",
              "    }\n",
              "\n",
              "    .dataframe tbody tr th {\n",
              "        vertical-align: top;\n",
              "    }\n",
              "\n",
              "    .dataframe thead th {\n",
              "        text-align: right;\n",
              "    }\n",
              "</style>\n",
              "<table border=\"1\" class=\"dataframe\">\n",
              "  <thead>\n",
              "    <tr style=\"text-align: right;\">\n",
              "      <th></th>\n",
              "      <th>sentences</th>\n",
              "      <th>text</th>\n",
              "      <th>ner</th>\n",
              "      <th>tokens</th>\n",
              "      <th>tags</th>\n",
              "      <th>ner_new</th>\n",
              "      <th>ner_final</th>\n",
              "    </tr>\n",
              "  </thead>\n",
              "  <tbody>\n",
              "    <tr>\n",
              "      <th>0</th>\n",
              "      <td>Вот принесли эти задания в колледж, надо решит...</td>\n",
              "      <td>Tesak</td>\n",
              "      <td>[(Вот, O), (принесли, O), (эти, O), (задания, ...</td>\n",
              "      <td>[Вот, принесли, эти, задания, в, колледж, ,, н...</td>\n",
              "      <td>[(Вот, PRCL), (принесли, VERB), (эти, ADJF), (...</td>\n",
              "      <td>[(Вот, O), (принесли, O), (эти, O), (задания, ...</td>\n",
              "      <td>[]</td>\n",
              "    </tr>\n",
              "    <tr>\n",
              "      <th>1</th>\n",
              "      <td>Когда-то у меня по химии была пятерка, а я по ...</td>\n",
              "      <td>Tesak</td>\n",
              "      <td>[(Когда-то, O), (у, O), (меня, O), (по, O), (х...</td>\n",
              "      <td>[Когда-то, у, меня, по, химии, была, пятерка, ...</td>\n",
              "      <td>[(Когда-то, ADVB), (у, PREP), (меня, NPRO), (п...</td>\n",
              "      <td>[(Когда-то, O), (у, O), (меня, O), (по, O), (х...</td>\n",
              "      <td>[]</td>\n",
              "    </tr>\n",
              "    <tr>\n",
              "      <th>2</th>\n",
              "      <td>На зоне не нужно больше знать и уметь, кроме с...</td>\n",
              "      <td>Tesak</td>\n",
              "      <td>[(На, O), (зоне, O), (не, O), (нужно, O), (бол...</td>\n",
              "      <td>[На, зоне, не, нужно, больше, знать, и, уметь,...</td>\n",
              "      <td>[(На, PREP), (зоне, NOUN), (не, PRCL), (нужно,...</td>\n",
              "      <td>[(На, O), (зоне, O), (не, O), (нужно, O), (бол...</td>\n",
              "      <td>[]</td>\n",
              "    </tr>\n",
              "    <tr>\n",
              "      <th>3</th>\n",
              "      <td>Только  я сказал, сразу меня начали просить по...</td>\n",
              "      <td>Tesak</td>\n",
              "      <td>[(Только, O), (я, O), (сказал, O), (,, O), (ср...</td>\n",
              "      <td>[Только, я, сказал, ,, сразу, меня, начали, пр...</td>\n",
              "      <td>[(Только, PRCL), (я, NPRO), (сказал, VERB), (,...</td>\n",
              "      <td>[(Только, O), (я, O), (сказал, O), (,, O), (ср...</td>\n",
              "      <td>[]</td>\n",
              "    </tr>\n",
              "    <tr>\n",
              "      <th>4</th>\n",
              "      <td>Мы садимся, я открываю эти задачи и понимаю, ч...</td>\n",
              "      <td>Tesak</td>\n",
              "      <td>[(Мы, O), (садимся, O), (,, O), (я, O), (откры...</td>\n",
              "      <td>[Мы, садимся, ,, я, открываю, эти, задачи, и, ...</td>\n",
              "      <td>[(Мы, NPRO), (садимся, VERB), (,, None), (я, N...</td>\n",
              "      <td>[(Мы, O), (садимся, O), (,, O), (я, O), (откры...</td>\n",
              "      <td>[]</td>\n",
              "    </tr>\n",
              "  </tbody>\n",
              "</table>\n",
              "</div>\n",
              "      <button class=\"colab-df-convert\" onclick=\"convertToInteractive('df-f013b662-494c-4406-bf4a-f5d6b27a0c47')\"\n",
              "              title=\"Convert this dataframe to an interactive table.\"\n",
              "              style=\"display:none;\">\n",
              "        \n",
              "  <svg xmlns=\"http://www.w3.org/2000/svg\" height=\"24px\"viewBox=\"0 0 24 24\"\n",
              "       width=\"24px\">\n",
              "    <path d=\"M0 0h24v24H0V0z\" fill=\"none\"/>\n",
              "    <path d=\"M18.56 5.44l.94 2.06.94-2.06 2.06-.94-2.06-.94-.94-2.06-.94 2.06-2.06.94zm-11 1L8.5 8.5l.94-2.06 2.06-.94-2.06-.94L8.5 2.5l-.94 2.06-2.06.94zm10 10l.94 2.06.94-2.06 2.06-.94-2.06-.94-.94-2.06-.94 2.06-2.06.94z\"/><path d=\"M17.41 7.96l-1.37-1.37c-.4-.4-.92-.59-1.43-.59-.52 0-1.04.2-1.43.59L10.3 9.45l-7.72 7.72c-.78.78-.78 2.05 0 2.83L4 21.41c.39.39.9.59 1.41.59.51 0 1.02-.2 1.41-.59l7.78-7.78 2.81-2.81c.8-.78.8-2.07 0-2.86zM5.41 20L4 18.59l7.72-7.72 1.47 1.35L5.41 20z\"/>\n",
              "  </svg>\n",
              "      </button>\n",
              "      \n",
              "  <style>\n",
              "    .colab-df-container {\n",
              "      display:flex;\n",
              "      flex-wrap:wrap;\n",
              "      gap: 12px;\n",
              "    }\n",
              "\n",
              "    .colab-df-convert {\n",
              "      background-color: #E8F0FE;\n",
              "      border: none;\n",
              "      border-radius: 50%;\n",
              "      cursor: pointer;\n",
              "      display: none;\n",
              "      fill: #1967D2;\n",
              "      height: 32px;\n",
              "      padding: 0 0 0 0;\n",
              "      width: 32px;\n",
              "    }\n",
              "\n",
              "    .colab-df-convert:hover {\n",
              "      background-color: #E2EBFA;\n",
              "      box-shadow: 0px 1px 2px rgba(60, 64, 67, 0.3), 0px 1px 3px 1px rgba(60, 64, 67, 0.15);\n",
              "      fill: #174EA6;\n",
              "    }\n",
              "\n",
              "    [theme=dark] .colab-df-convert {\n",
              "      background-color: #3B4455;\n",
              "      fill: #D2E3FC;\n",
              "    }\n",
              "\n",
              "    [theme=dark] .colab-df-convert:hover {\n",
              "      background-color: #434B5C;\n",
              "      box-shadow: 0px 1px 3px 1px rgba(0, 0, 0, 0.15);\n",
              "      filter: drop-shadow(0px 1px 2px rgba(0, 0, 0, 0.3));\n",
              "      fill: #FFFFFF;\n",
              "    }\n",
              "  </style>\n",
              "\n",
              "      <script>\n",
              "        const buttonEl =\n",
              "          document.querySelector('#df-f013b662-494c-4406-bf4a-f5d6b27a0c47 button.colab-df-convert');\n",
              "        buttonEl.style.display =\n",
              "          google.colab.kernel.accessAllowed ? 'block' : 'none';\n",
              "\n",
              "        async function convertToInteractive(key) {\n",
              "          const element = document.querySelector('#df-f013b662-494c-4406-bf4a-f5d6b27a0c47');\n",
              "          const dataTable =\n",
              "            await google.colab.kernel.invokeFunction('convertToInteractive',\n",
              "                                                     [key], {});\n",
              "          if (!dataTable) return;\n",
              "\n",
              "          const docLinkHtml = 'Like what you see? Visit the ' +\n",
              "            '<a target=\"_blank\" href=https://colab.research.google.com/notebooks/data_table.ipynb>data table notebook</a>'\n",
              "            + ' to learn more about interactive tables.';\n",
              "          element.innerHTML = '';\n",
              "          dataTable['output_type'] = 'display_data';\n",
              "          await google.colab.output.renderOutput(dataTable, element);\n",
              "          const docLink = document.createElement('div');\n",
              "          docLink.innerHTML = docLinkHtml;\n",
              "          element.appendChild(docLink);\n",
              "        }\n",
              "      </script>\n",
              "    </div>\n",
              "  </div>\n",
              "  "
            ]
          },
          "metadata": {},
          "execution_count": 6
        }
      ]
    },
    {
      "cell_type": "code",
      "source": [
        "my_gram = 4"
      ],
      "metadata": {
        "id": "4WPGT_IgP1Zs"
      },
      "execution_count": 7,
      "outputs": []
    },
    {
      "cell_type": "code",
      "source": [
        "def pad(x, char, n=1, left=True):\n",
        "    if left:\n",
        "        return ' '.join(char for i in range(n)) +\" \" + x\n",
        "    else:\n",
        "        return x+\" \"+ ' '.join(char for i in range(n)) \n",
        "    \n",
        "def process_data(x, start_token='<start>', end_token='<end>', lower=False, n_gram=2):\n",
        "    n_gram = max(n_gram,2)\n",
        "    if isinstance(x, str):\n",
        "        x = re.split(r'[.?!]\\s*',x)\n",
        "    x = [re.sub('[^\\w]+', ' ', sentence).strip() for sentence in x]\n",
        "    if lower:\n",
        "        x = [sentence.lower() for sentence in x]\n",
        "    x = [sentence.replace('.','').replace(',','').replace('!','').replace('?','').strip() for sentence in x if sentence]\n",
        "    x = [pad(sentence, start_token, n_gram-1, left=True) for sentence in x if sentence]\n",
        "    x = [pad(sentence, end_token, 1, left=False) for sentence in x if sentence]\n",
        "    return x"
      ],
      "metadata": {
        "id": "pdwfOU-wGssW"
      },
      "execution_count": 8,
      "outputs": []
    },
    {
      "cell_type": "code",
      "source": [
        "from tqdm import tqdm\n",
        "from collections import defaultdict"
      ],
      "metadata": {
        "id": "Vh2YwQ72R3YH"
      },
      "execution_count": 9,
      "outputs": []
    },
    {
      "cell_type": "code",
      "source": [
        "df1 = df[df.text == 'Tesak']"
      ],
      "metadata": {
        "id": "gQ1C7XGQVfVR"
      },
      "execution_count": 10,
      "outputs": []
    },
    {
      "cell_type": "code",
      "source": [
        "df2 = df[df.text == 'Koran'].sample(len(df1), random_state=0)"
      ],
      "metadata": {
        "id": "vbJFV6NIaCfT"
      },
      "execution_count": 11,
      "outputs": []
    },
    {
      "cell_type": "code",
      "source": [
        "df_bal = pd.concat([df1, df2])"
      ],
      "metadata": {
        "id": "oYekYY0aaO12"
      },
      "execution_count": 12,
      "outputs": []
    },
    {
      "cell_type": "code",
      "source": [
        "processed_texts = process_data(df_bal.sentences, n_gram=my_gram)"
      ],
      "metadata": {
        "id": "E-QIEk8IR6Md"
      },
      "execution_count": 13,
      "outputs": []
    },
    {
      "cell_type": "code",
      "execution_count": 14,
      "metadata": {
        "id": "EK-iiQYK_OeR"
      },
      "outputs": [],
      "source": [
        "class MarkovChains:\n",
        "    def __init__(self, n_grams=2, texts=None):\n",
        "        self.n_grams = n_grams\n",
        "        self.counter_dict = None\n",
        "        self.n_tokens = None\n",
        "        self.vocab = None\n",
        "        self.inverse_vocab = None\n",
        "        self.texts = texts\n",
        "        if not self.texts is None:\n",
        "            self.counter_dict, self.vocab, self.n_tokens = self.build_vocab()\n",
        "        self.dict_probs = defaultdict(dict)\n",
        "        \n",
        "    def build_vocab(self):\n",
        "        if isinstance(self.texts, list):\n",
        "            vocab = list(set(np.hstack([i.split(' ') for i in self.texts])))\n",
        "        elif isinstance(str): \n",
        "            vocab = list(set(self.texts.split(' ')))\n",
        "            self.texts = [pad(i.strip(), '<end>', left=False) for i in self.texts.split('<end>')]\n",
        "        counter_dict = Counter([])\n",
        "        for sentence in tqdm(processed_texts):\n",
        "            tokens = sentence.split(' ')\n",
        "            for l in range(len(tokens)-self.n_grams+2):\n",
        "                counter_dict.update([' '.join(tokens[l:l+self.n_grams-1])])\n",
        "        n_tokens = len(vocab)\n",
        "        print('Build vocabulary')\n",
        "        return counter_dict, vocab, n_tokens\n",
        "        \n",
        "    def train(self, texts=None):\n",
        "        if texts is None:\n",
        "            assert self.texts, 'Please provide texts data'\n",
        "        else:\n",
        "            self.texts = texts\n",
        "        if self.vocab is None:\n",
        "            self.counter_dict, self.vocab, self.n_tokens = self.build_vocab()\n",
        "        n_gram_counter = Counter([])\n",
        "        for sentence in tqdm(processed_texts):\n",
        "            tokens = sentence.split(' ')\n",
        "            for l in range(len(tokens)-self.n_grams+1):\n",
        "                n_gram_counter.update([' '.join(tokens[l:l+self.n_grams])])\n",
        "        for n_gram, freq in tqdm(n_gram_counter.items()):\n",
        "            tokens = n_gram.split(' ')\n",
        "            main_token = tokens[-1]\n",
        "            cond_tokens = ' '.join(tokens[:-1])\n",
        "            cond_tokens_freq = self.counter_dict[cond_tokens]\n",
        "            self.dict_probs[cond_tokens][main_token] = freq/cond_tokens_freq\n",
        "        print('Finished training')\n",
        "    \n",
        "    def generate(self, start_token='<start>', end_token='<end>', greedy=False,\n",
        "                 decoding='random', beam_size=2, max_sent_size=15):\n",
        "      if start_token == '<start>':\n",
        "        start_token2 = [start_token for i in range(self.n_grams-1)]\n",
        "        generated_tokens = [' '.join(start_token2)]\n",
        "        n_seq = 1\n",
        "      else:\n",
        "        start_token2 = ['<start>' for i in range(self.n_grams-2)]\n",
        "        start_token2.append(start_token)\n",
        "        generated_tokens = [' '.join(start_token2)]\n",
        "        n_seq = 2\n",
        "      if decoding == 'random':\n",
        "        next_token = start_token\n",
        "        while True:\n",
        "            generated_tokens = list(np.hstack(i.split(' ') for i in generated_tokens))\n",
        "            probs = self.dict_probs[' '.join(generated_tokens[-self.n_grams+1:])] \n",
        "            variants = list(probs.keys())\n",
        "            probs = list(probs.values())\n",
        "            if greedy:\n",
        "              idx = np.argmax(probs)\n",
        "            else:\n",
        "              idx = np.random.choice(range(len(variants)), p=probs)\n",
        "            next_token = variants[idx]\n",
        "            if next_token==end_token:\n",
        "              break\n",
        "            generated_tokens.append(next_token)\n",
        "        generated_tokens.append('.')\n",
        "        generation = ' '.join(generated_tokens[self.n_grams-n_seq:]).capitalize()\n",
        "        return generation\n",
        "        \n",
        "      elif decoding == 'beam_search':\n",
        "        probs = [[0]]\n",
        "        sentences = [start_token2]\n",
        "        while True:\n",
        "          new_probs = []\n",
        "          new_sentences = []\n",
        "          for c, sentence in enumerate(sentences):\n",
        "            if len(sentence) <= max_sent_size or sentence[-1] != '<end>':\n",
        "              start_token2 = sentence[-self.n_grams+1:]\n",
        "              all_probs = self.dict_probs[' '.join(start_token2)] \n",
        "              variants = list(all_probs.keys())\n",
        "              all_probs = np.array(list(all_probs.values()))\n",
        "              top_words = [variants[i] for i in all_probs.argsort()[-beam_size:]]\n",
        "              top_probs = [all_probs[i] for i in all_probs.argsort()[-beam_size:]]\n",
        "\n",
        "              new_sentences.extend([sentence + [i] for i in top_words])\n",
        "              new_probs.extend([probs[c]+[i] for i in top_probs])\n",
        "            else:\n",
        "              new_sentences.append(sentence)\n",
        "              new_probs.append(probs[c])\n",
        "            \n",
        "          sentences = deepcopy(new_sentences)\n",
        "          probs = deepcopy(new_probs)\n",
        "\n",
        "          rules = [len(sentence) >= max_sent_size or sentence[-1]=='<end>' for sentence in sentences]\n",
        "            \n",
        "          if all(rules):\n",
        "            break\n",
        "\n",
        "        idx = np.argmax(np.sum(probs, axis=1))\n",
        "        sentence = ' '.join(sentences[idx]).replace('<start> ', '').replace('<end>' , '')\n",
        "        sentence += '.'\n",
        "        return sentence\n",
        "    \n",
        "    def get_params(self):\n",
        "        return self.dict_probs"
      ]
    },
    {
      "cell_type": "code",
      "source": [
        "model4 = MarkovChains(n_grams=my_gram, texts=processed_texts)"
      ],
      "metadata": {
        "colab": {
          "base_uri": "https://localhost:8080/"
        },
        "id": "weqhnVLAVxEI",
        "outputId": "e19fefb1-a5b0-4d5f-9174-b29c8309e4ef"
      },
      "execution_count": 15,
      "outputs": [
        {
          "output_type": "stream",
          "name": "stderr",
          "text": [
            "100%|██████████| 34956/34956 [00:01<00:00, 27075.97it/s]"
          ]
        },
        {
          "output_type": "stream",
          "name": "stdout",
          "text": [
            "Build vocabulary\n"
          ]
        },
        {
          "output_type": "stream",
          "name": "stderr",
          "text": [
            "\n"
          ]
        }
      ]
    },
    {
      "cell_type": "code",
      "source": [
        "model4.train()"
      ],
      "metadata": {
        "colab": {
          "base_uri": "https://localhost:8080/"
        },
        "id": "2JFSJuj3YSIV",
        "outputId": "c6d2f9b6-73e9-46fb-fb0d-5909d570e5a7"
      },
      "execution_count": 16,
      "outputs": [
        {
          "output_type": "stream",
          "name": "stderr",
          "text": [
            "100%|██████████| 34956/34956 [00:01<00:00, 28689.25it/s]\n",
            "100%|██████████| 416358/416358 [00:01<00:00, 388942.94it/s]"
          ]
        },
        {
          "output_type": "stream",
          "name": "stdout",
          "text": [
            "Finished training\n"
          ]
        },
        {
          "output_type": "stream",
          "name": "stderr",
          "text": [
            "\n"
          ]
        }
      ]
    },
    {
      "cell_type": "code",
      "source": [
        "with open('model4pkl', 'wb') as f:\n",
        "    pickle.dump(model4, f)"
      ],
      "metadata": {
        "id": "47qu51N6Of3S"
      },
      "execution_count": 18,
      "outputs": []
    },
    {
      "cell_type": "code",
      "source": [
        "!pip freeze > requirements.txt"
      ],
      "metadata": {
        "id": "okHsv10ixn21"
      },
      "execution_count": 19,
      "outputs": []
    },
    {
      "cell_type": "code",
      "source": [
        "prikol = model.generate(start_token='Вот', decoding='beam_search', beam_size=5)\n",
        "prikol"
      ],
      "metadata": {
        "colab": {
          "base_uri": "https://localhost:8080/",
          "height": 35
        },
        "id": "Cdfm_MCdYVFh",
        "outputId": "3d75a411-ca12-459c-e74e-4c44411e69ef"
      },
      "execution_count": 17,
      "outputs": [
        {
          "output_type": "execute_result",
          "data": {
            "text/plain": [
              "'Вот так в каждом селении Мы создавали главных грешников чтобы они строили там.'"
            ],
            "application/vnd.google.colaboratory.intrinsic+json": {
              "type": "string"
            }
          },
          "metadata": {},
          "execution_count": 17
        }
      ]
    },
    {
      "cell_type": "code",
      "source": [
        "with open('/content/drive/MyDrive/list of prikols.txt', 'a', encoding = 'utf-8') as f:\n",
        "  f.write(prikol + '\\n')"
      ],
      "metadata": {
        "id": "YDxVKwWXbI-w"
      },
      "execution_count": null,
      "outputs": []
    }
  ]
}