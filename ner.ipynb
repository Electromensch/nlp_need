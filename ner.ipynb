{
  "nbformat": 4,
  "nbformat_minor": 0,
  "metadata": {
    "colab": {
      "name": "ner.ipynb",
      "provenance": [],
      "authorship_tag": "ABX9TyNAc9NmG5o+gSjbBKm+sMP6",
      "include_colab_link": true
    },
    "kernelspec": {
      "name": "python3",
      "display_name": "Python 3"
    },
    "language_info": {
      "name": "python"
    }
  },
  "cells": [
    {
      "cell_type": "markdown",
      "metadata": {
        "id": "view-in-github",
        "colab_type": "text"
      },
      "source": [
        "<a href=\"https://colab.research.google.com/github/Electromensch/nlp_need/blob/main/ner.ipynb\" target=\"_parent\"><img src=\"https://colab.research.google.com/assets/colab-badge.svg\" alt=\"Open In Colab\"/></a>"
      ]
    },
    {
      "cell_type": "code",
      "source": [
        "import nltk\n",
        "from bs4 import BeautifulSoup\n",
        "import requests\n",
        "import re\n",
        "from nltk.tokenize import sent_tokenize\n",
        "from nltk.corpus import stopwords\n",
        "import pandas as pd"
      ],
      "metadata": {
        "id": "Z2TDr3K_bnar"
      },
      "execution_count": 1,
      "outputs": []
    },
    {
      "cell_type": "code",
      "source": [
        "url_kor = 'https://musulmanin.com/koran-na-russkom.html'\n",
        "url_base = 'https://quran-online.ru/'\n",
        "html_doc = requests.get(url_base).text\n",
        "soup = BeautifulSoup(html_doc, 'html.parser')"
      ],
      "metadata": {
        "id": "LZmli_pubpQm"
      },
      "execution_count": null,
      "outputs": []
    },
    {
      "cell_type": "code",
      "source": [
        "all_links2 = [re.findall(r'https://quran-online.ru/\\d+/saadi', link.get('href')) for link in soup.find_all('a')]\n",
        "all_links2 = [link[0] for link in all_links2 if link]"
      ],
      "metadata": {
        "id": "B-YBl8gPbuHG"
      },
      "execution_count": null,
      "outputs": []
    },
    {
      "cell_type": "code",
      "source": [
        "mylinks = list(dict.fromkeys(all_links2))"
      ],
      "metadata": {
        "id": "DQyZyJyMb1rJ"
      },
      "execution_count": null,
      "outputs": []
    },
    {
      "cell_type": "code",
      "source": [
        "chunks = []\n",
        "for link in range(len(mylinks)):\n",
        "    html_doc2 = requests.get(mylinks[link]).text\n",
        "    soup2 = BeautifulSoup(html_doc2, 'html.parser')\n",
        "    need_text = soup2.find_all(\"div\", attrs={'class': \"ayat-text-type russian active\", 'style': \"display:block\"})\n",
        "    chunks += [i.getText().strip().replace('\\n', ' ').replace(r'[!:.;?]\\.', '.') for i in need_text]"
      ],
      "metadata": {
        "id": "PxsagKYYb5Og"
      },
      "execution_count": null,
      "outputs": []
    },
    {
      "cell_type": "code",
      "source": [
        "koran = ' '.join(chunks)"
      ],
      "metadata": {
        "id": "blsAgQ4ScMT2"
      },
      "execution_count": null,
      "outputs": []
    },
    {
      "cell_type": "code",
      "source": [
        "from google.colab import drive\n",
        "drive.mount('/content/gdrive')"
      ],
      "metadata": {
        "colab": {
          "base_uri": "https://localhost:8080/"
        },
        "id": "E0FHB2lheFMf",
        "outputId": "af204a6b-ae53-403d-fbb2-c2429fc4020f"
      },
      "execution_count": null,
      "outputs": [
        {
          "output_type": "stream",
          "name": "stdout",
          "text": [
            "Mounted at /content/gdrive\n"
          ]
        }
      ]
    },
    {
      "cell_type": "code",
      "source": [
        "!pip install ebooklib"
      ],
      "metadata": {
        "colab": {
          "base_uri": "https://localhost:8080/"
        },
        "id": "21W-B0BlK-Wh",
        "outputId": "ef19306f-225b-45d1-e853-87300414de25"
      },
      "execution_count": null,
      "outputs": [
        {
          "output_type": "stream",
          "name": "stdout",
          "text": [
            "Looking in indexes: https://pypi.org/simple, https://us-python.pkg.dev/colab-wheels/public/simple/\n",
            "Collecting ebooklib\n",
            "  Downloading EbookLib-0.17.1.tar.gz (111 kB)\n",
            "\u001b[K     |████████████████████████████████| 111 kB 5.1 MB/s \n",
            "\u001b[?25hRequirement already satisfied: lxml in /usr/local/lib/python3.7/dist-packages (from ebooklib) (4.9.1)\n",
            "Requirement already satisfied: six in /usr/local/lib/python3.7/dist-packages (from ebooklib) (1.15.0)\n",
            "Building wheels for collected packages: ebooklib\n",
            "  Building wheel for ebooklib (setup.py) ... \u001b[?25l\u001b[?25hdone\n",
            "  Created wheel for ebooklib: filename=EbookLib-0.17.1-py3-none-any.whl size=38184 sha256=115b11424566b69d0b9d344435aa966638d7bd321445c2ce1b40100c01443560\n",
            "  Stored in directory: /root/.cache/pip/wheels/43/39/fd/db4f652431a55d28472ba7f5f7c9a8efad03b97f443a48ea2f\n",
            "Successfully built ebooklib\n",
            "Installing collected packages: ebooklib\n",
            "Successfully installed ebooklib-0.17.1\n"
          ]
        }
      ]
    },
    {
      "cell_type": "code",
      "source": [
        "import ebooklib\n",
        "from ebooklib import epub"
      ],
      "metadata": {
        "id": "hlyOSkrocOI4"
      },
      "execution_count": null,
      "outputs": []
    },
    {
      "cell_type": "code",
      "source": [
        "!rm -r nlp_need\n",
        "!git clone https://github.com/Electromensch/nlp_need"
      ],
      "metadata": {
        "colab": {
          "base_uri": "https://localhost:8080/"
        },
        "id": "J3e5-dS8e6S2",
        "outputId": "e5b533b4-4b7d-43e8-88b2-f0be30fbc2fd"
      },
      "execution_count": null,
      "outputs": [
        {
          "output_type": "stream",
          "name": "stdout",
          "text": [
            "rm: cannot remove 'nlp_need': No such file or directory\n",
            "Cloning into 'nlp_need'...\n",
            "remote: Enumerating objects: 10, done.\u001b[K\n",
            "remote: Counting objects: 100% (10/10), done.\u001b[K\n",
            "remote: Compressing objects: 100% (10/10), done.\u001b[K\n",
            "remote: Total 10 (delta 2), reused 0 (delta 0), pack-reused 0\u001b[K\n",
            "Unpacking objects: 100% (10/10), done.\n"
          ]
        }
      ]
    },
    {
      "cell_type": "code",
      "source": [
        "book = epub.read_epub('nlp_need/restruct.epub')\n",
        "items = list(book.get_items_of_type(ebooklib.ITEM_DOCUMENT))"
      ],
      "metadata": {
        "id": "aLuFmvLmcSb7"
      },
      "execution_count": null,
      "outputs": []
    },
    {
      "cell_type": "code",
      "source": [
        "texts = []\n",
        "\n",
        "for c in items:\n",
        "    soup3 = BeautifulSoup(c.get_body_content(), 'html.parser')\n",
        "    text = [para.get_text() for para in soup3.find_all('p')]\n",
        "    texts += text\n",
        "    \n",
        "tesak = ' '.join(texts)\n",
        "tesak=tesak.replace('\\\\n', '')"
      ],
      "metadata": {
        "id": "WyeMJgIagFBr"
      },
      "execution_count": null,
      "outputs": []
    },
    {
      "cell_type": "markdown",
      "source": [
        "Data Frame creation"
      ],
      "metadata": {
        "id": "Oj6q5g8hgNRt"
      }
    },
    {
      "cell_type": "code",
      "source": [
        "nltk.download('stopwords')\n",
        "nltk.download('punkt')"
      ],
      "metadata": {
        "colab": {
          "base_uri": "https://localhost:8080/"
        },
        "id": "IbQHsNRQgU98",
        "outputId": "80a1bd80-41e4-4188-974c-240908904b24"
      },
      "execution_count": null,
      "outputs": [
        {
          "output_type": "stream",
          "name": "stderr",
          "text": [
            "[nltk_data] Downloading package stopwords to /root/nltk_data...\n",
            "[nltk_data]   Unzipping corpora/stopwords.zip.\n",
            "[nltk_data] Downloading package punkt to /root/nltk_data...\n",
            "[nltk_data]   Unzipping tokenizers/punkt.zip.\n"
          ]
        },
        {
          "output_type": "execute_result",
          "data": {
            "text/plain": [
              "True"
            ]
          },
          "metadata": {},
          "execution_count": 15
        }
      ]
    },
    {
      "cell_type": "code",
      "source": [
        "tesak_sent = sent_tokenize(tesak, language=\"russian\")\n",
        "koran_sent = sent_tokenize(koran, language=\"russian\")"
      ],
      "metadata": {
        "id": "6trJ5v8ngXKw"
      },
      "execution_count": null,
      "outputs": []
    },
    {
      "cell_type": "code",
      "source": [
        "df1 = pd.DataFrame(tesak_sent, columns=['sentences'])\n",
        "df1['text'] = 'Tesak'\n",
        "df1.head()\n",
        "df2 = pd.DataFrame(koran_sent, columns=['sentences'])\n",
        "df2['text'] = 'Koran'\n",
        "df2.head()"
      ],
      "metadata": {
        "colab": {
          "base_uri": "https://localhost:8080/",
          "height": 206
        },
        "id": "Y7ktjFr6gbIJ",
        "outputId": "d4ce0bbe-332e-4ae1-93ac-3b3e0d783707"
      },
      "execution_count": null,
      "outputs": [
        {
          "output_type": "execute_result",
          "data": {
            "text/plain": [
              "                                           sentences   text\n",
              "0          Во имя Аллаха, Милостивого, Милосердного!  Koran\n",
              "1             Это означает: я начинаю во имя Аллаха.  Koran\n",
              "2  Из лексического анализа этого словосочетания я...  Koran\n",
              "3  Аллах - одно из этих имен, означающее «Бог, Ко...  Koran\n",
              "4  Прекрасные имена Милостивый и Милосердный свид...  Koran"
            ],
            "text/html": [
              "\n",
              "  <div id=\"df-bea7ee32-9b06-4e1b-89fe-98b3f3d7849f\">\n",
              "    <div class=\"colab-df-container\">\n",
              "      <div>\n",
              "<style scoped>\n",
              "    .dataframe tbody tr th:only-of-type {\n",
              "        vertical-align: middle;\n",
              "    }\n",
              "\n",
              "    .dataframe tbody tr th {\n",
              "        vertical-align: top;\n",
              "    }\n",
              "\n",
              "    .dataframe thead th {\n",
              "        text-align: right;\n",
              "    }\n",
              "</style>\n",
              "<table border=\"1\" class=\"dataframe\">\n",
              "  <thead>\n",
              "    <tr style=\"text-align: right;\">\n",
              "      <th></th>\n",
              "      <th>sentences</th>\n",
              "      <th>text</th>\n",
              "    </tr>\n",
              "  </thead>\n",
              "  <tbody>\n",
              "    <tr>\n",
              "      <th>0</th>\n",
              "      <td>Во имя Аллаха, Милостивого, Милосердного!</td>\n",
              "      <td>Koran</td>\n",
              "    </tr>\n",
              "    <tr>\n",
              "      <th>1</th>\n",
              "      <td>Это означает: я начинаю во имя Аллаха.</td>\n",
              "      <td>Koran</td>\n",
              "    </tr>\n",
              "    <tr>\n",
              "      <th>2</th>\n",
              "      <td>Из лексического анализа этого словосочетания я...</td>\n",
              "      <td>Koran</td>\n",
              "    </tr>\n",
              "    <tr>\n",
              "      <th>3</th>\n",
              "      <td>Аллах - одно из этих имен, означающее «Бог, Ко...</td>\n",
              "      <td>Koran</td>\n",
              "    </tr>\n",
              "    <tr>\n",
              "      <th>4</th>\n",
              "      <td>Прекрасные имена Милостивый и Милосердный свид...</td>\n",
              "      <td>Koran</td>\n",
              "    </tr>\n",
              "  </tbody>\n",
              "</table>\n",
              "</div>\n",
              "      <button class=\"colab-df-convert\" onclick=\"convertToInteractive('df-bea7ee32-9b06-4e1b-89fe-98b3f3d7849f')\"\n",
              "              title=\"Convert this dataframe to an interactive table.\"\n",
              "              style=\"display:none;\">\n",
              "        \n",
              "  <svg xmlns=\"http://www.w3.org/2000/svg\" height=\"24px\"viewBox=\"0 0 24 24\"\n",
              "       width=\"24px\">\n",
              "    <path d=\"M0 0h24v24H0V0z\" fill=\"none\"/>\n",
              "    <path d=\"M18.56 5.44l.94 2.06.94-2.06 2.06-.94-2.06-.94-.94-2.06-.94 2.06-2.06.94zm-11 1L8.5 8.5l.94-2.06 2.06-.94-2.06-.94L8.5 2.5l-.94 2.06-2.06.94zm10 10l.94 2.06.94-2.06 2.06-.94-2.06-.94-.94-2.06-.94 2.06-2.06.94z\"/><path d=\"M17.41 7.96l-1.37-1.37c-.4-.4-.92-.59-1.43-.59-.52 0-1.04.2-1.43.59L10.3 9.45l-7.72 7.72c-.78.78-.78 2.05 0 2.83L4 21.41c.39.39.9.59 1.41.59.51 0 1.02-.2 1.41-.59l7.78-7.78 2.81-2.81c.8-.78.8-2.07 0-2.86zM5.41 20L4 18.59l7.72-7.72 1.47 1.35L5.41 20z\"/>\n",
              "  </svg>\n",
              "      </button>\n",
              "      \n",
              "  <style>\n",
              "    .colab-df-container {\n",
              "      display:flex;\n",
              "      flex-wrap:wrap;\n",
              "      gap: 12px;\n",
              "    }\n",
              "\n",
              "    .colab-df-convert {\n",
              "      background-color: #E8F0FE;\n",
              "      border: none;\n",
              "      border-radius: 50%;\n",
              "      cursor: pointer;\n",
              "      display: none;\n",
              "      fill: #1967D2;\n",
              "      height: 32px;\n",
              "      padding: 0 0 0 0;\n",
              "      width: 32px;\n",
              "    }\n",
              "\n",
              "    .colab-df-convert:hover {\n",
              "      background-color: #E2EBFA;\n",
              "      box-shadow: 0px 1px 2px rgba(60, 64, 67, 0.3), 0px 1px 3px 1px rgba(60, 64, 67, 0.15);\n",
              "      fill: #174EA6;\n",
              "    }\n",
              "\n",
              "    [theme=dark] .colab-df-convert {\n",
              "      background-color: #3B4455;\n",
              "      fill: #D2E3FC;\n",
              "    }\n",
              "\n",
              "    [theme=dark] .colab-df-convert:hover {\n",
              "      background-color: #434B5C;\n",
              "      box-shadow: 0px 1px 3px 1px rgba(0, 0, 0, 0.15);\n",
              "      filter: drop-shadow(0px 1px 2px rgba(0, 0, 0, 0.3));\n",
              "      fill: #FFFFFF;\n",
              "    }\n",
              "  </style>\n",
              "\n",
              "      <script>\n",
              "        const buttonEl =\n",
              "          document.querySelector('#df-bea7ee32-9b06-4e1b-89fe-98b3f3d7849f button.colab-df-convert');\n",
              "        buttonEl.style.display =\n",
              "          google.colab.kernel.accessAllowed ? 'block' : 'none';\n",
              "\n",
              "        async function convertToInteractive(key) {\n",
              "          const element = document.querySelector('#df-bea7ee32-9b06-4e1b-89fe-98b3f3d7849f');\n",
              "          const dataTable =\n",
              "            await google.colab.kernel.invokeFunction('convertToInteractive',\n",
              "                                                     [key], {});\n",
              "          if (!dataTable) return;\n",
              "\n",
              "          const docLinkHtml = 'Like what you see? Visit the ' +\n",
              "            '<a target=\"_blank\" href=https://colab.research.google.com/notebooks/data_table.ipynb>data table notebook</a>'\n",
              "            + ' to learn more about interactive tables.';\n",
              "          element.innerHTML = '';\n",
              "          dataTable['output_type'] = 'display_data';\n",
              "          await google.colab.output.renderOutput(dataTable, element);\n",
              "          const docLink = document.createElement('div');\n",
              "          docLink.innerHTML = docLinkHtml;\n",
              "          element.appendChild(docLink);\n",
              "        }\n",
              "      </script>\n",
              "    </div>\n",
              "  </div>\n",
              "  "
            ]
          },
          "metadata": {},
          "execution_count": 17
        }
      ]
    },
    {
      "cell_type": "code",
      "source": [
        "df = pd.concat([df1, df2])\n",
        "df.reset_index(inplace=True)\n",
        "df.drop('index', axis=1, inplace=True)"
      ],
      "metadata": {
        "id": "C2woe47HgeUG"
      },
      "execution_count": null,
      "outputs": []
    },
    {
      "cell_type": "code",
      "source": [
        "df.head()"
      ],
      "metadata": {
        "colab": {
          "base_uri": "https://localhost:8080/",
          "height": 206
        },
        "id": "DZ8pWwD0ghJ1",
        "outputId": "039e05fe-fdba-485d-a48e-4cabce920499"
      },
      "execution_count": null,
      "outputs": [
        {
          "output_type": "execute_result",
          "data": {
            "text/plain": [
              "                                           sentences   text\n",
              "0  Вот принесли эти задания в колледж, надо решит...  Tesak\n",
              "1  Когда-то у меня по химии была пятерка, а я по ...  Tesak\n",
              "2  На зоне не нужно больше знать и уметь, кроме с...  Tesak\n",
              "3  Только  я сказал, сразу меня начали просить по...  Tesak\n",
              "4  Мы садимся, я открываю эти задачи и понимаю, ч...  Tesak"
            ],
            "text/html": [
              "\n",
              "  <div id=\"df-70678f58-50bc-456c-8244-32fec75df901\">\n",
              "    <div class=\"colab-df-container\">\n",
              "      <div>\n",
              "<style scoped>\n",
              "    .dataframe tbody tr th:only-of-type {\n",
              "        vertical-align: middle;\n",
              "    }\n",
              "\n",
              "    .dataframe tbody tr th {\n",
              "        vertical-align: top;\n",
              "    }\n",
              "\n",
              "    .dataframe thead th {\n",
              "        text-align: right;\n",
              "    }\n",
              "</style>\n",
              "<table border=\"1\" class=\"dataframe\">\n",
              "  <thead>\n",
              "    <tr style=\"text-align: right;\">\n",
              "      <th></th>\n",
              "      <th>sentences</th>\n",
              "      <th>text</th>\n",
              "    </tr>\n",
              "  </thead>\n",
              "  <tbody>\n",
              "    <tr>\n",
              "      <th>0</th>\n",
              "      <td>Вот принесли эти задания в колледж, надо решит...</td>\n",
              "      <td>Tesak</td>\n",
              "    </tr>\n",
              "    <tr>\n",
              "      <th>1</th>\n",
              "      <td>Когда-то у меня по химии была пятерка, а я по ...</td>\n",
              "      <td>Tesak</td>\n",
              "    </tr>\n",
              "    <tr>\n",
              "      <th>2</th>\n",
              "      <td>На зоне не нужно больше знать и уметь, кроме с...</td>\n",
              "      <td>Tesak</td>\n",
              "    </tr>\n",
              "    <tr>\n",
              "      <th>3</th>\n",
              "      <td>Только  я сказал, сразу меня начали просить по...</td>\n",
              "      <td>Tesak</td>\n",
              "    </tr>\n",
              "    <tr>\n",
              "      <th>4</th>\n",
              "      <td>Мы садимся, я открываю эти задачи и понимаю, ч...</td>\n",
              "      <td>Tesak</td>\n",
              "    </tr>\n",
              "  </tbody>\n",
              "</table>\n",
              "</div>\n",
              "      <button class=\"colab-df-convert\" onclick=\"convertToInteractive('df-70678f58-50bc-456c-8244-32fec75df901')\"\n",
              "              title=\"Convert this dataframe to an interactive table.\"\n",
              "              style=\"display:none;\">\n",
              "        \n",
              "  <svg xmlns=\"http://www.w3.org/2000/svg\" height=\"24px\"viewBox=\"0 0 24 24\"\n",
              "       width=\"24px\">\n",
              "    <path d=\"M0 0h24v24H0V0z\" fill=\"none\"/>\n",
              "    <path d=\"M18.56 5.44l.94 2.06.94-2.06 2.06-.94-2.06-.94-.94-2.06-.94 2.06-2.06.94zm-11 1L8.5 8.5l.94-2.06 2.06-.94-2.06-.94L8.5 2.5l-.94 2.06-2.06.94zm10 10l.94 2.06.94-2.06 2.06-.94-2.06-.94-.94-2.06-.94 2.06-2.06.94z\"/><path d=\"M17.41 7.96l-1.37-1.37c-.4-.4-.92-.59-1.43-.59-.52 0-1.04.2-1.43.59L10.3 9.45l-7.72 7.72c-.78.78-.78 2.05 0 2.83L4 21.41c.39.39.9.59 1.41.59.51 0 1.02-.2 1.41-.59l7.78-7.78 2.81-2.81c.8-.78.8-2.07 0-2.86zM5.41 20L4 18.59l7.72-7.72 1.47 1.35L5.41 20z\"/>\n",
              "  </svg>\n",
              "      </button>\n",
              "      \n",
              "  <style>\n",
              "    .colab-df-container {\n",
              "      display:flex;\n",
              "      flex-wrap:wrap;\n",
              "      gap: 12px;\n",
              "    }\n",
              "\n",
              "    .colab-df-convert {\n",
              "      background-color: #E8F0FE;\n",
              "      border: none;\n",
              "      border-radius: 50%;\n",
              "      cursor: pointer;\n",
              "      display: none;\n",
              "      fill: #1967D2;\n",
              "      height: 32px;\n",
              "      padding: 0 0 0 0;\n",
              "      width: 32px;\n",
              "    }\n",
              "\n",
              "    .colab-df-convert:hover {\n",
              "      background-color: #E2EBFA;\n",
              "      box-shadow: 0px 1px 2px rgba(60, 64, 67, 0.3), 0px 1px 3px 1px rgba(60, 64, 67, 0.15);\n",
              "      fill: #174EA6;\n",
              "    }\n",
              "\n",
              "    [theme=dark] .colab-df-convert {\n",
              "      background-color: #3B4455;\n",
              "      fill: #D2E3FC;\n",
              "    }\n",
              "\n",
              "    [theme=dark] .colab-df-convert:hover {\n",
              "      background-color: #434B5C;\n",
              "      box-shadow: 0px 1px 3px 1px rgba(0, 0, 0, 0.15);\n",
              "      filter: drop-shadow(0px 1px 2px rgba(0, 0, 0, 0.3));\n",
              "      fill: #FFFFFF;\n",
              "    }\n",
              "  </style>\n",
              "\n",
              "      <script>\n",
              "        const buttonEl =\n",
              "          document.querySelector('#df-70678f58-50bc-456c-8244-32fec75df901 button.colab-df-convert');\n",
              "        buttonEl.style.display =\n",
              "          google.colab.kernel.accessAllowed ? 'block' : 'none';\n",
              "\n",
              "        async function convertToInteractive(key) {\n",
              "          const element = document.querySelector('#df-70678f58-50bc-456c-8244-32fec75df901');\n",
              "          const dataTable =\n",
              "            await google.colab.kernel.invokeFunction('convertToInteractive',\n",
              "                                                     [key], {});\n",
              "          if (!dataTable) return;\n",
              "\n",
              "          const docLinkHtml = 'Like what you see? Visit the ' +\n",
              "            '<a target=\"_blank\" href=https://colab.research.google.com/notebooks/data_table.ipynb>data table notebook</a>'\n",
              "            + ' to learn more about interactive tables.';\n",
              "          element.innerHTML = '';\n",
              "          dataTable['output_type'] = 'display_data';\n",
              "          await google.colab.output.renderOutput(dataTable, element);\n",
              "          const docLink = document.createElement('div');\n",
              "          docLink.innerHTML = docLinkHtml;\n",
              "          element.appendChild(docLink);\n",
              "        }\n",
              "      </script>\n",
              "    </div>\n",
              "  </div>\n",
              "  "
            ]
          },
          "metadata": {},
          "execution_count": 19
        }
      ]
    },
    {
      "cell_type": "code",
      "source": [
        "df.to_pickle('nlp_pickle')"
      ],
      "metadata": {
        "id": "duwfPkuYgpA4"
      },
      "execution_count": null,
      "outputs": []
    },
    {
      "cell_type": "code",
      "source": [
        "!pwd"
      ],
      "metadata": {
        "colab": {
          "base_uri": "https://localhost:8080/"
        },
        "id": "JIItuKv-gsto",
        "outputId": "0c906b56-2f5e-4e89-d1d2-8aecc988c822"
      },
      "execution_count": null,
      "outputs": [
        {
          "output_type": "stream",
          "name": "stdout",
          "text": [
            "/content\n"
          ]
        }
      ]
    },
    {
      "cell_type": "code",
      "source": [
        "from nltk.probability import FreqDist\n",
        "import operator\n",
        "from nltk.stem import PorterStemmer\n",
        "from nltk.stem.snowball import SnowballStemmer"
      ],
      "metadata": {
        "id": "MGVMeBQdg1b3"
      },
      "execution_count": null,
      "outputs": []
    },
    {
      "cell_type": "code",
      "source": [
        "import spacy"
      ],
      "metadata": {
        "id": "NIjJbPUzg6dK"
      },
      "execution_count": null,
      "outputs": []
    },
    {
      "cell_type": "code",
      "source": [
        "!python3 -m spacy download ru_core_news_md"
      ],
      "metadata": {
        "id": "CdawJYNPM01M"
      },
      "execution_count": null,
      "outputs": []
    },
    {
      "cell_type": "code",
      "source": [
        "sp = spacy.load(\"ru_core_news_md\")"
      ],
      "metadata": {
        "id": "fiGPDdBlhDy_"
      },
      "execution_count": null,
      "outputs": []
    },
    {
      "cell_type": "code",
      "source": [
        "df['tokens'] = df['sentences'].apply(lambda x: sp(x))"
      ],
      "metadata": {
        "id": "0u3TRS_-jA36"
      },
      "execution_count": 25,
      "outputs": []
    },
    {
      "cell_type": "code",
      "source": [
        "df.head()"
      ],
      "metadata": {
        "colab": {
          "base_uri": "https://localhost:8080/",
          "height": 206
        },
        "id": "dVWPQ_jRkYz_",
        "outputId": "c83a4d7c-2a7e-485c-e770-07b5f1972b47"
      },
      "execution_count": 29,
      "outputs": [
        {
          "output_type": "execute_result",
          "data": {
            "text/plain": [
              "                                           sentences   text  \\\n",
              "0  Вот принесли эти задания в колледж, надо решит...  Tesak   \n",
              "1  Когда-то у меня по химии была пятерка, а я по ...  Tesak   \n",
              "2  На зоне не нужно больше знать и уметь, кроме с...  Tesak   \n",
              "3  Только  я сказал, сразу меня начали просить по...  Tesak   \n",
              "4  Мы садимся, я открываю эти задачи и понимаю, ч...  Tesak   \n",
              "\n",
              "                                              tokens  \\\n",
              "0  (Вот, принесли, эти, задания, в, колледж, ,, н...   \n",
              "1  (Когда, -, то, у, меня, по, химии, была, пятер...   \n",
              "2  (На, зоне, не, нужно, больше, знать, и, уметь,...   \n",
              "3  (Только,  , я, сказал, ,, сразу, меня, начали,...   \n",
              "4  (Мы, садимся, ,, я, открываю, эти, задачи, и, ...   \n",
              "\n",
              "                                            pos_tags  \n",
              "0  {'вот': 'PART', 'принести': 'VERB', 'этот': 'D...  \n",
              "1  {'когда': 'ADV', '-': 'ADV', 'то': 'ADV', 'у':...  \n",
              "2  {'на': 'ADP', 'зона': 'NOUN', 'не': 'PART', 'н...  \n",
              "3  {'только': 'PART', ' ': 'SPACE', 'я': 'PRON', ...  \n",
              "4  {'мы': 'PRON', 'садиться': 'VERB', ',': 'PUNCT...  "
            ],
            "text/html": [
              "\n",
              "  <div id=\"df-bf075c2b-8ee1-4806-8c6e-68059c8ad107\">\n",
              "    <div class=\"colab-df-container\">\n",
              "      <div>\n",
              "<style scoped>\n",
              "    .dataframe tbody tr th:only-of-type {\n",
              "        vertical-align: middle;\n",
              "    }\n",
              "\n",
              "    .dataframe tbody tr th {\n",
              "        vertical-align: top;\n",
              "    }\n",
              "\n",
              "    .dataframe thead th {\n",
              "        text-align: right;\n",
              "    }\n",
              "</style>\n",
              "<table border=\"1\" class=\"dataframe\">\n",
              "  <thead>\n",
              "    <tr style=\"text-align: right;\">\n",
              "      <th></th>\n",
              "      <th>sentences</th>\n",
              "      <th>text</th>\n",
              "      <th>tokens</th>\n",
              "      <th>pos_tags</th>\n",
              "    </tr>\n",
              "  </thead>\n",
              "  <tbody>\n",
              "    <tr>\n",
              "      <th>0</th>\n",
              "      <td>Вот принесли эти задания в колледж, надо решит...</td>\n",
              "      <td>Tesak</td>\n",
              "      <td>(Вот, принесли, эти, задания, в, колледж, ,, н...</td>\n",
              "      <td>{'вот': 'PART', 'принести': 'VERB', 'этот': 'D...</td>\n",
              "    </tr>\n",
              "    <tr>\n",
              "      <th>1</th>\n",
              "      <td>Когда-то у меня по химии была пятерка, а я по ...</td>\n",
              "      <td>Tesak</td>\n",
              "      <td>(Когда, -, то, у, меня, по, химии, была, пятер...</td>\n",
              "      <td>{'когда': 'ADV', '-': 'ADV', 'то': 'ADV', 'у':...</td>\n",
              "    </tr>\n",
              "    <tr>\n",
              "      <th>2</th>\n",
              "      <td>На зоне не нужно больше знать и уметь, кроме с...</td>\n",
              "      <td>Tesak</td>\n",
              "      <td>(На, зоне, не, нужно, больше, знать, и, уметь,...</td>\n",
              "      <td>{'на': 'ADP', 'зона': 'NOUN', 'не': 'PART', 'н...</td>\n",
              "    </tr>\n",
              "    <tr>\n",
              "      <th>3</th>\n",
              "      <td>Только  я сказал, сразу меня начали просить по...</td>\n",
              "      <td>Tesak</td>\n",
              "      <td>(Только,  , я, сказал, ,, сразу, меня, начали,...</td>\n",
              "      <td>{'только': 'PART', ' ': 'SPACE', 'я': 'PRON', ...</td>\n",
              "    </tr>\n",
              "    <tr>\n",
              "      <th>4</th>\n",
              "      <td>Мы садимся, я открываю эти задачи и понимаю, ч...</td>\n",
              "      <td>Tesak</td>\n",
              "      <td>(Мы, садимся, ,, я, открываю, эти, задачи, и, ...</td>\n",
              "      <td>{'мы': 'PRON', 'садиться': 'VERB', ',': 'PUNCT...</td>\n",
              "    </tr>\n",
              "  </tbody>\n",
              "</table>\n",
              "</div>\n",
              "      <button class=\"colab-df-convert\" onclick=\"convertToInteractive('df-bf075c2b-8ee1-4806-8c6e-68059c8ad107')\"\n",
              "              title=\"Convert this dataframe to an interactive table.\"\n",
              "              style=\"display:none;\">\n",
              "        \n",
              "  <svg xmlns=\"http://www.w3.org/2000/svg\" height=\"24px\"viewBox=\"0 0 24 24\"\n",
              "       width=\"24px\">\n",
              "    <path d=\"M0 0h24v24H0V0z\" fill=\"none\"/>\n",
              "    <path d=\"M18.56 5.44l.94 2.06.94-2.06 2.06-.94-2.06-.94-.94-2.06-.94 2.06-2.06.94zm-11 1L8.5 8.5l.94-2.06 2.06-.94-2.06-.94L8.5 2.5l-.94 2.06-2.06.94zm10 10l.94 2.06.94-2.06 2.06-.94-2.06-.94-.94-2.06-.94 2.06-2.06.94z\"/><path d=\"M17.41 7.96l-1.37-1.37c-.4-.4-.92-.59-1.43-.59-.52 0-1.04.2-1.43.59L10.3 9.45l-7.72 7.72c-.78.78-.78 2.05 0 2.83L4 21.41c.39.39.9.59 1.41.59.51 0 1.02-.2 1.41-.59l7.78-7.78 2.81-2.81c.8-.78.8-2.07 0-2.86zM5.41 20L4 18.59l7.72-7.72 1.47 1.35L5.41 20z\"/>\n",
              "  </svg>\n",
              "      </button>\n",
              "      \n",
              "  <style>\n",
              "    .colab-df-container {\n",
              "      display:flex;\n",
              "      flex-wrap:wrap;\n",
              "      gap: 12px;\n",
              "    }\n",
              "\n",
              "    .colab-df-convert {\n",
              "      background-color: #E8F0FE;\n",
              "      border: none;\n",
              "      border-radius: 50%;\n",
              "      cursor: pointer;\n",
              "      display: none;\n",
              "      fill: #1967D2;\n",
              "      height: 32px;\n",
              "      padding: 0 0 0 0;\n",
              "      width: 32px;\n",
              "    }\n",
              "\n",
              "    .colab-df-convert:hover {\n",
              "      background-color: #E2EBFA;\n",
              "      box-shadow: 0px 1px 2px rgba(60, 64, 67, 0.3), 0px 1px 3px 1px rgba(60, 64, 67, 0.15);\n",
              "      fill: #174EA6;\n",
              "    }\n",
              "\n",
              "    [theme=dark] .colab-df-convert {\n",
              "      background-color: #3B4455;\n",
              "      fill: #D2E3FC;\n",
              "    }\n",
              "\n",
              "    [theme=dark] .colab-df-convert:hover {\n",
              "      background-color: #434B5C;\n",
              "      box-shadow: 0px 1px 3px 1px rgba(0, 0, 0, 0.15);\n",
              "      filter: drop-shadow(0px 1px 2px rgba(0, 0, 0, 0.3));\n",
              "      fill: #FFFFFF;\n",
              "    }\n",
              "  </style>\n",
              "\n",
              "      <script>\n",
              "        const buttonEl =\n",
              "          document.querySelector('#df-bf075c2b-8ee1-4806-8c6e-68059c8ad107 button.colab-df-convert');\n",
              "        buttonEl.style.display =\n",
              "          google.colab.kernel.accessAllowed ? 'block' : 'none';\n",
              "\n",
              "        async function convertToInteractive(key) {\n",
              "          const element = document.querySelector('#df-bf075c2b-8ee1-4806-8c6e-68059c8ad107');\n",
              "          const dataTable =\n",
              "            await google.colab.kernel.invokeFunction('convertToInteractive',\n",
              "                                                     [key], {});\n",
              "          if (!dataTable) return;\n",
              "\n",
              "          const docLinkHtml = 'Like what you see? Visit the ' +\n",
              "            '<a target=\"_blank\" href=https://colab.research.google.com/notebooks/data_table.ipynb>data table notebook</a>'\n",
              "            + ' to learn more about interactive tables.';\n",
              "          element.innerHTML = '';\n",
              "          dataTable['output_type'] = 'display_data';\n",
              "          await google.colab.output.renderOutput(dataTable, element);\n",
              "          const docLink = document.createElement('div');\n",
              "          docLink.innerHTML = docLinkHtml;\n",
              "          element.appendChild(docLink);\n",
              "        }\n",
              "      </script>\n",
              "    </div>\n",
              "  </div>\n",
              "  "
            ]
          },
          "metadata": {},
          "execution_count": 29
        }
      ]
    },
    {
      "cell_type": "code",
      "source": [
        "df['pos_tags'] = df['tokens'].apply(lambda x: {i.lemma_: i.pos_ for i in x})"
      ],
      "metadata": {
        "id": "HlQxLZAeRKog"
      },
      "execution_count": 28,
      "outputs": []
    },
    {
      "cell_type": "code",
      "source": [
        "df['ner'] = df['tokens'].apply(lambda x: )"
      ],
      "metadata": {
        "id": "uN7uKpcYRXmR"
      },
      "execution_count": null,
      "outputs": []
    },
    {
      "cell_type": "code",
      "source": [
        "df_train = df.head()"
      ],
      "metadata": {
        "id": "phhP4DsqSsDv"
      },
      "execution_count": 8,
      "outputs": []
    },
    {
      "cell_type": "code",
      "source": [
        "df_train['ner'] = df_train['tokens'].apply(lambda x: x.ents)"
      ],
      "metadata": {
        "colab": {
          "base_uri": "https://localhost:8080/"
        },
        "id": "Z-JtzAE-SvtE",
        "outputId": "e8c4aeb7-6f3e-415c-98bc-ec0fdef8c71b"
      },
      "execution_count": 32,
      "outputs": [
        {
          "output_type": "stream",
          "name": "stderr",
          "text": [
            "/usr/local/lib/python3.7/dist-packages/ipykernel_launcher.py:1: SettingWithCopyWarning: \n",
            "A value is trying to be set on a copy of a slice from a DataFrame.\n",
            "Try using .loc[row_indexer,col_indexer] = value instead\n",
            "\n",
            "See the caveats in the documentation: https://pandas.pydata.org/pandas-docs/stable/user_guide/indexing.html#returning-a-view-versus-a-copy\n",
            "  \"\"\"Entry point for launching an IPython kernel.\n"
          ]
        }
      ]
    },
    {
      "cell_type": "code",
      "source": [
        "df = pd.read_pickle('mypkl')"
      ],
      "metadata": {
        "id": "EP901O-dXcH7"
      },
      "execution_count": null,
      "outputs": []
    },
    {
      "cell_type": "code",
      "source": [
        "df_train.head()"
      ],
      "metadata": {
        "colab": {
          "base_uri": "https://localhost:8080/",
          "height": 250
        },
        "id": "O9DZJLIZTCR0",
        "outputId": "35b16cfa-2ccd-4578-a99c-e83fb5d72bab"
      },
      "execution_count": 33,
      "outputs": [
        {
          "output_type": "execute_result",
          "data": {
            "text/plain": [
              "                                           sentences   text  \\\n",
              "0  Вот принесли эти задания в колледж, надо решит...  Tesak   \n",
              "1  Когда-то у меня по химии была пятерка, а я по ...  Tesak   \n",
              "2  На зоне не нужно больше знать и уметь, кроме с...  Tesak   \n",
              "3  Только  я сказал, сразу меня начали просить по...  Tesak   \n",
              "4  Мы садимся, я открываю эти задачи и понимаю, ч...  Tesak   \n",
              "\n",
              "                                              tokens  \\\n",
              "0  (Вот, принесли, эти, задания, в, колледж, ,, н...   \n",
              "1  (Когда, -, то, у, меня, по, химии, была, пятер...   \n",
              "2  (На, зоне, не, нужно, больше, знать, и, уметь,...   \n",
              "3  (Только,  , я, сказал, ,, сразу, меня, начали,...   \n",
              "4  (Мы, садимся, ,, я, открываю, эти, задачи, и, ...   \n",
              "\n",
              "                                            pos_tags ner  \n",
              "0  {'вот': 'PART', 'принести': 'VERB', 'этот': 'D...  ()  \n",
              "1  {'когда': 'ADV', '-': 'ADV', 'то': 'ADV', 'у':...  ()  \n",
              "2  {'на': 'ADP', 'зона': 'NOUN', 'не': 'PART', 'н...  ()  \n",
              "3  {'только': 'PART', ' ': 'SPACE', 'я': 'PRON', ...  ()  \n",
              "4  {'мы': 'PRON', 'садиться': 'VERB', ',': 'PUNCT...  ()  "
            ],
            "text/html": [
              "\n",
              "  <div id=\"df-f769ed63-47fa-4e7c-b35a-c15da24cdc74\">\n",
              "    <div class=\"colab-df-container\">\n",
              "      <div>\n",
              "<style scoped>\n",
              "    .dataframe tbody tr th:only-of-type {\n",
              "        vertical-align: middle;\n",
              "    }\n",
              "\n",
              "    .dataframe tbody tr th {\n",
              "        vertical-align: top;\n",
              "    }\n",
              "\n",
              "    .dataframe thead th {\n",
              "        text-align: right;\n",
              "    }\n",
              "</style>\n",
              "<table border=\"1\" class=\"dataframe\">\n",
              "  <thead>\n",
              "    <tr style=\"text-align: right;\">\n",
              "      <th></th>\n",
              "      <th>sentences</th>\n",
              "      <th>text</th>\n",
              "      <th>tokens</th>\n",
              "      <th>pos_tags</th>\n",
              "      <th>ner</th>\n",
              "    </tr>\n",
              "  </thead>\n",
              "  <tbody>\n",
              "    <tr>\n",
              "      <th>0</th>\n",
              "      <td>Вот принесли эти задания в колледж, надо решит...</td>\n",
              "      <td>Tesak</td>\n",
              "      <td>(Вот, принесли, эти, задания, в, колледж, ,, н...</td>\n",
              "      <td>{'вот': 'PART', 'принести': 'VERB', 'этот': 'D...</td>\n",
              "      <td>()</td>\n",
              "    </tr>\n",
              "    <tr>\n",
              "      <th>1</th>\n",
              "      <td>Когда-то у меня по химии была пятерка, а я по ...</td>\n",
              "      <td>Tesak</td>\n",
              "      <td>(Когда, -, то, у, меня, по, химии, была, пятер...</td>\n",
              "      <td>{'когда': 'ADV', '-': 'ADV', 'то': 'ADV', 'у':...</td>\n",
              "      <td>()</td>\n",
              "    </tr>\n",
              "    <tr>\n",
              "      <th>2</th>\n",
              "      <td>На зоне не нужно больше знать и уметь, кроме с...</td>\n",
              "      <td>Tesak</td>\n",
              "      <td>(На, зоне, не, нужно, больше, знать, и, уметь,...</td>\n",
              "      <td>{'на': 'ADP', 'зона': 'NOUN', 'не': 'PART', 'н...</td>\n",
              "      <td>()</td>\n",
              "    </tr>\n",
              "    <tr>\n",
              "      <th>3</th>\n",
              "      <td>Только  я сказал, сразу меня начали просить по...</td>\n",
              "      <td>Tesak</td>\n",
              "      <td>(Только,  , я, сказал, ,, сразу, меня, начали,...</td>\n",
              "      <td>{'только': 'PART', ' ': 'SPACE', 'я': 'PRON', ...</td>\n",
              "      <td>()</td>\n",
              "    </tr>\n",
              "    <tr>\n",
              "      <th>4</th>\n",
              "      <td>Мы садимся, я открываю эти задачи и понимаю, ч...</td>\n",
              "      <td>Tesak</td>\n",
              "      <td>(Мы, садимся, ,, я, открываю, эти, задачи, и, ...</td>\n",
              "      <td>{'мы': 'PRON', 'садиться': 'VERB', ',': 'PUNCT...</td>\n",
              "      <td>()</td>\n",
              "    </tr>\n",
              "  </tbody>\n",
              "</table>\n",
              "</div>\n",
              "      <button class=\"colab-df-convert\" onclick=\"convertToInteractive('df-f769ed63-47fa-4e7c-b35a-c15da24cdc74')\"\n",
              "              title=\"Convert this dataframe to an interactive table.\"\n",
              "              style=\"display:none;\">\n",
              "        \n",
              "  <svg xmlns=\"http://www.w3.org/2000/svg\" height=\"24px\"viewBox=\"0 0 24 24\"\n",
              "       width=\"24px\">\n",
              "    <path d=\"M0 0h24v24H0V0z\" fill=\"none\"/>\n",
              "    <path d=\"M18.56 5.44l.94 2.06.94-2.06 2.06-.94-2.06-.94-.94-2.06-.94 2.06-2.06.94zm-11 1L8.5 8.5l.94-2.06 2.06-.94-2.06-.94L8.5 2.5l-.94 2.06-2.06.94zm10 10l.94 2.06.94-2.06 2.06-.94-2.06-.94-.94-2.06-.94 2.06-2.06.94z\"/><path d=\"M17.41 7.96l-1.37-1.37c-.4-.4-.92-.59-1.43-.59-.52 0-1.04.2-1.43.59L10.3 9.45l-7.72 7.72c-.78.78-.78 2.05 0 2.83L4 21.41c.39.39.9.59 1.41.59.51 0 1.02-.2 1.41-.59l7.78-7.78 2.81-2.81c.8-.78.8-2.07 0-2.86zM5.41 20L4 18.59l7.72-7.72 1.47 1.35L5.41 20z\"/>\n",
              "  </svg>\n",
              "      </button>\n",
              "      \n",
              "  <style>\n",
              "    .colab-df-container {\n",
              "      display:flex;\n",
              "      flex-wrap:wrap;\n",
              "      gap: 12px;\n",
              "    }\n",
              "\n",
              "    .colab-df-convert {\n",
              "      background-color: #E8F0FE;\n",
              "      border: none;\n",
              "      border-radius: 50%;\n",
              "      cursor: pointer;\n",
              "      display: none;\n",
              "      fill: #1967D2;\n",
              "      height: 32px;\n",
              "      padding: 0 0 0 0;\n",
              "      width: 32px;\n",
              "    }\n",
              "\n",
              "    .colab-df-convert:hover {\n",
              "      background-color: #E2EBFA;\n",
              "      box-shadow: 0px 1px 2px rgba(60, 64, 67, 0.3), 0px 1px 3px 1px rgba(60, 64, 67, 0.15);\n",
              "      fill: #174EA6;\n",
              "    }\n",
              "\n",
              "    [theme=dark] .colab-df-convert {\n",
              "      background-color: #3B4455;\n",
              "      fill: #D2E3FC;\n",
              "    }\n",
              "\n",
              "    [theme=dark] .colab-df-convert:hover {\n",
              "      background-color: #434B5C;\n",
              "      box-shadow: 0px 1px 3px 1px rgba(0, 0, 0, 0.15);\n",
              "      filter: drop-shadow(0px 1px 2px rgba(0, 0, 0, 0.3));\n",
              "      fill: #FFFFFF;\n",
              "    }\n",
              "  </style>\n",
              "\n",
              "      <script>\n",
              "        const buttonEl =\n",
              "          document.querySelector('#df-f769ed63-47fa-4e7c-b35a-c15da24cdc74 button.colab-df-convert');\n",
              "        buttonEl.style.display =\n",
              "          google.colab.kernel.accessAllowed ? 'block' : 'none';\n",
              "\n",
              "        async function convertToInteractive(key) {\n",
              "          const element = document.querySelector('#df-f769ed63-47fa-4e7c-b35a-c15da24cdc74');\n",
              "          const dataTable =\n",
              "            await google.colab.kernel.invokeFunction('convertToInteractive',\n",
              "                                                     [key], {});\n",
              "          if (!dataTable) return;\n",
              "\n",
              "          const docLinkHtml = 'Like what you see? Visit the ' +\n",
              "            '<a target=\"_blank\" href=https://colab.research.google.com/notebooks/data_table.ipynb>data table notebook</a>'\n",
              "            + ' to learn more about interactive tables.';\n",
              "          element.innerHTML = '';\n",
              "          dataTable['output_type'] = 'display_data';\n",
              "          await google.colab.output.renderOutput(dataTable, element);\n",
              "          const docLink = document.createElement('div');\n",
              "          docLink.innerHTML = docLinkHtml;\n",
              "          element.appendChild(docLink);\n",
              "        }\n",
              "      </script>\n",
              "    </div>\n",
              "  </div>\n",
              "  "
            ]
          },
          "metadata": {},
          "execution_count": 33
        }
      ]
    },
    {
      "cell_type": "code",
      "source": [
        "!pip install -q deeppavlov"
      ],
      "metadata": {
        "id": "QnCFvCzJVSX_"
      },
      "execution_count": null,
      "outputs": []
    },
    {
      "cell_type": "code",
      "source": [
        "!python -m deeppavlov install ner_rus\n",
        "!python -m deeppavlov install ner_rus_bert"
      ],
      "metadata": {
        "id": "9s46op33VUxv"
      },
      "execution_count": null,
      "outputs": []
    },
    {
      "cell_type": "code",
      "source": [
        "from deeppavlov import configs, build_model\n",
        "\n",
        "config_path = configs.ner.ner_rus_bert\n"
      ],
      "metadata": {
        "id": "-x97aiEkVako"
      },
      "execution_count": 5,
      "outputs": []
    },
    {
      "cell_type": "code",
      "source": [
        "ner = build_model(config_path, download=True)"
      ],
      "metadata": {
        "id": "KWNoqzVpcoEx"
      },
      "execution_count": null,
      "outputs": []
    },
    {
      "cell_type": "code",
      "source": [
        "def for_bert(text):\n",
        "  tokens, tags = ner([text])\n",
        "  return {tok: tag for tok, tag in zip(tokens[0], tags[0])}  "
      ],
      "metadata": {
        "id": "99iTBqGJgucq"
      },
      "execution_count": 18,
      "outputs": []
    },
    {
      "cell_type": "code",
      "source": [
        "df_train['ner'] = df_train['sentences'].apply(for_bert)"
      ],
      "metadata": {
        "colab": {
          "base_uri": "https://localhost:8080/"
        },
        "id": "VsD-U7u4dz0V",
        "outputId": "720ff298-435c-4215-8b3a-ed9f1125fb22"
      },
      "execution_count": 20,
      "outputs": [
        {
          "output_type": "stream",
          "name": "stderr",
          "text": [
            "/usr/local/lib/python3.7/dist-packages/pandas/core/frame.py:3607: SettingWithCopyWarning: \n",
            "A value is trying to be set on a copy of a slice from a DataFrame.\n",
            "Try using .loc[row_indexer,col_indexer] = value instead\n",
            "\n",
            "See the caveats in the documentation: https://pandas.pydata.org/pandas-docs/stable/user_guide/indexing.html#returning-a-view-versus-a-copy\n",
            "  self._set_item(key, value)\n"
          ]
        }
      ]
    },
    {
      "cell_type": "code",
      "source": [
        "df_train.ner"
      ],
      "metadata": {
        "colab": {
          "base_uri": "https://localhost:8080/"
        },
        "id": "JsCtNKJNhhdU",
        "outputId": "b42c035a-1d3b-4a8c-fed7-a97b084c2cfa"
      },
      "execution_count": 22,
      "outputs": [
        {
          "output_type": "execute_result",
          "data": {
            "text/plain": [
              "0    {'Вот': 'O', 'принесли': 'O', 'эти': 'O', 'зад...\n",
              "1    {'Когда': 'O', '-': 'O', 'то': 'O', 'у': 'O', ...\n",
              "2    {'На': 'O', 'зоне': 'O', 'не': 'O', 'нужно': '...\n",
              "3    {'Только': 'O', 'я': 'O', 'сказал': 'O', ',': ...\n",
              "4    {'Мы': 'O', 'садимся': 'O', ',': 'O', 'я': 'O'...\n",
              "Name: ner, dtype: object"
            ]
          },
          "metadata": {},
          "execution_count": 22
        }
      ]
    },
    {
      "cell_type": "code",
      "source": [
        "df['ner'] = df['sentences'].apply(for_bert)"
      ],
      "metadata": {
        "id": "MZx9Wyp-h7Df"
      },
      "execution_count": null,
      "outputs": []
    },
    {
      "cell_type": "code",
      "source": [
        "df.tail()"
      ],
      "metadata": {
        "id": "ozi1mY1ciAEo"
      },
      "execution_count": null,
      "outputs": []
    },
    {
      "cell_type": "code",
      "source": [
        "df.to_pickle('nerpkl')"
      ],
      "metadata": {
        "id": "3N4L31rSsfPU"
      },
      "execution_count": null,
      "outputs": []
    },
    {
      "cell_type": "code",
      "source": [
        "tokens, tags = ner(['Вот принесли эти задания в колледж, надо решить химию, за 11 класс и начало института.'])\n",
        "for tok, tag in zip(tokens[0], tags[0]):\n",
        "    print(f'{tok}\\t{tag}')"
      ],
      "metadata": {
        "colab": {
          "base_uri": "https://localhost:8080/"
        },
        "id": "-3SNiiELeyeT",
        "outputId": "44c13b18-b6a4-488d-878a-ef3e2a865173"
      },
      "execution_count": 17,
      "outputs": [
        {
          "output_type": "stream",
          "name": "stdout",
          "text": [
            "Вот\tO\n",
            "принесли\tO\n",
            "эти\tO\n",
            "задания\tO\n",
            "в\tO\n",
            "колледж\tO\n",
            ",\tO\n",
            "надо\tO\n",
            "решить\tO\n",
            "химию\tO\n",
            ",\tO\n",
            "за\tO\n",
            "11\tO\n",
            "класс\tO\n",
            "и\tO\n",
            "начало\tO\n",
            "института\tO\n",
            ".\tO\n"
          ]
        }
      ]
    },
    {
      "cell_type": "code",
      "source": [
        "df_train['tokens'][0]"
      ],
      "metadata": {
        "colab": {
          "base_uri": "https://localhost:8080/"
        },
        "id": "Kd3b6GgsfFol",
        "outputId": "1c34fef9-a7fe-4c1a-e1cc-cb9278473b1b"
      },
      "execution_count": 12,
      "outputs": [
        {
          "output_type": "execute_result",
          "data": {
            "text/plain": [
              "Вот принесли эти задания в колледж, надо решить химию, за 11 класс и начало института."
            ]
          },
          "metadata": {},
          "execution_count": 12
        }
      ]
    }
  ]
}