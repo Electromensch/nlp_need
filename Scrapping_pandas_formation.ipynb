{
  "nbformat": 4,
  "nbformat_minor": 0,
  "metadata": {
    "colab": {
      "provenance": [],
      "collapsed_sections": [],
      "authorship_tag": "ABX9TyNDavhMpEZW9xbLZqvOaqwM",
      "include_colab_link": true
    },
    "kernelspec": {
      "name": "python3",
      "display_name": "Python 3"
    },
    "language_info": {
      "name": "python"
    },
    "gpuClass": "standard"
  },
  "cells": [
    {
      "cell_type": "markdown",
      "metadata": {
        "id": "view-in-github",
        "colab_type": "text"
      },
      "source": [
        "<a href=\"https://colab.research.google.com/github/Electromensch/nlp_need/blob/main/Scrapping_pandas_formation.ipynb\" target=\"_parent\"><img src=\"https://colab.research.google.com/assets/colab-badge.svg\" alt=\"Open In Colab\"/></a>"
      ]
    },
    {
      "cell_type": "code",
      "source": [
        "!pip install numpy==1.19.5\n",
        "!pip install pandas==1.3"
      ],
      "metadata": {
        "id": "HjMZkQYkHYC3"
      },
      "execution_count": null,
      "outputs": []
    },
    {
      "cell_type": "code",
      "source": [
        "import nltk\n",
        "from bs4 import BeautifulSoup\n",
        "import requests\n",
        "import re\n",
        "from nltk.tokenize import sent_tokenize\n",
        "from nltk.corpus import stopwords\n",
        "import pandas as pd"
      ],
      "metadata": {
        "id": "yK1bWt6gnJ5Q"
      },
      "execution_count": null,
      "outputs": []
    },
    {
      "cell_type": "code",
      "source": [
        "url_kor = 'https://musulmanin.com/koran-na-russkom.html'\n",
        "url_base = 'https://quran-online.ru/'\n",
        "html_doc = requests.get(url_base).text\n",
        "soup = BeautifulSoup(html_doc, 'html.parser')"
      ],
      "metadata": {
        "id": "LZmli_pubpQm"
      },
      "execution_count": null,
      "outputs": []
    },
    {
      "cell_type": "code",
      "source": [
        "all_links2 = [re.findall(r'https://quran-online.ru/\\d+/saadi', link.get('href')) for link in soup.find_all('a')]\n",
        "all_links2 = [link[0] for link in all_links2 if link]"
      ],
      "metadata": {
        "id": "B-YBl8gPbuHG"
      },
      "execution_count": null,
      "outputs": []
    },
    {
      "cell_type": "code",
      "source": [
        "mylinks = list(dict.fromkeys(all_links2))"
      ],
      "metadata": {
        "id": "DQyZyJyMb1rJ"
      },
      "execution_count": null,
      "outputs": []
    },
    {
      "cell_type": "code",
      "source": [
        "chunks = []\n",
        "for link in range(len(mylinks)):\n",
        "    html_doc2 = requests.get(mylinks[link]).text\n",
        "    soup2 = BeautifulSoup(html_doc2, 'html.parser')\n",
        "    need_text = soup2.find_all(\"div\", attrs={'class': \"ayat-text-type russian active\", 'style': \"display:block\"})\n",
        "    chunks += [i.getText().strip().replace('\\n', ' ').replace(r'[!:.;?]\\.', '.') for i in need_text]"
      ],
      "metadata": {
        "id": "PxsagKYYb5Og"
      },
      "execution_count": null,
      "outputs": []
    },
    {
      "cell_type": "code",
      "source": [
        "koran = ' '.join(chunks)"
      ],
      "metadata": {
        "id": "blsAgQ4ScMT2"
      },
      "execution_count": null,
      "outputs": []
    },
    {
      "cell_type": "code",
      "source": [
        "from google.colab import drive\n",
        "drive.mount('/content/drive')"
      ],
      "metadata": {
        "colab": {
          "base_uri": "https://localhost:8080/"
        },
        "id": "E0FHB2lheFMf",
        "outputId": "c5a5b11f-1843-4986-84a9-a8accce66a0a"
      },
      "execution_count": null,
      "outputs": [
        {
          "output_type": "stream",
          "name": "stdout",
          "text": [
            "Mounted at /content/drive\n"
          ]
        }
      ]
    },
    {
      "cell_type": "code",
      "source": [
        "!pip install ebooklib"
      ],
      "metadata": {
        "colab": {
          "base_uri": "https://localhost:8080/"
        },
        "id": "21W-B0BlK-Wh",
        "outputId": "a7dbacfa-eb2a-446b-e73e-5bdb3728124b"
      },
      "execution_count": null,
      "outputs": [
        {
          "output_type": "stream",
          "name": "stdout",
          "text": [
            "Looking in indexes: https://pypi.org/simple, https://us-python.pkg.dev/colab-wheels/public/simple/\n",
            "Collecting ebooklib\n",
            "  Downloading EbookLib-0.17.1.tar.gz (111 kB)\n",
            "\u001b[K     |████████████████████████████████| 111 kB 28.5 MB/s \n",
            "\u001b[?25hRequirement already satisfied: lxml in /usr/local/lib/python3.7/dist-packages (from ebooklib) (4.9.1)\n",
            "Requirement already satisfied: six in /usr/local/lib/python3.7/dist-packages (from ebooklib) (1.15.0)\n",
            "Building wheels for collected packages: ebooklib\n",
            "  Building wheel for ebooklib (setup.py) ... \u001b[?25l\u001b[?25hdone\n",
            "  Created wheel for ebooklib: filename=EbookLib-0.17.1-py3-none-any.whl size=38184 sha256=2d54f77da20d16dda6ca0d8e172ed0bc126468f1dfc3848df09a4738bdc224ba\n",
            "  Stored in directory: /root/.cache/pip/wheels/43/39/fd/db4f652431a55d28472ba7f5f7c9a8efad03b97f443a48ea2f\n",
            "Successfully built ebooklib\n",
            "Installing collected packages: ebooklib\n",
            "Successfully installed ebooklib-0.17.1\n"
          ]
        }
      ]
    },
    {
      "cell_type": "code",
      "source": [
        "import ebooklib\n",
        "from ebooklib import epub"
      ],
      "metadata": {
        "id": "hlyOSkrocOI4"
      },
      "execution_count": null,
      "outputs": []
    },
    {
      "cell_type": "code",
      "source": [
        "!rm -r nlp_need\n",
        "!git clone https://github.com/Electromensch/nlp_need"
      ],
      "metadata": {
        "colab": {
          "base_uri": "https://localhost:8080/"
        },
        "id": "J3e5-dS8e6S2",
        "outputId": "3c5796b5-9dfe-43ee-dc42-a2a81e055592"
      },
      "execution_count": null,
      "outputs": [
        {
          "output_type": "stream",
          "name": "stdout",
          "text": [
            "rm: cannot remove 'nlp_need': No such file or directory\n",
            "Cloning into 'nlp_need'...\n",
            "remote: Enumerating objects: 13, done.\u001b[K\n",
            "remote: Counting objects: 100% (13/13), done.\u001b[K\n",
            "remote: Compressing objects: 100% (13/13), done.\u001b[K\n",
            "remote: Total 13 (delta 4), reused 0 (delta 0), pack-reused 0\u001b[K\n",
            "Unpacking objects: 100% (13/13), done.\n"
          ]
        }
      ]
    },
    {
      "cell_type": "code",
      "source": [
        "book = epub.read_epub('nlp_need/restruct.epub')\n",
        "items = list(book.get_items_of_type(ebooklib.ITEM_DOCUMENT))"
      ],
      "metadata": {
        "id": "aLuFmvLmcSb7"
      },
      "execution_count": null,
      "outputs": []
    },
    {
      "cell_type": "code",
      "source": [
        "texts = []\n",
        "\n",
        "for c in items:\n",
        "    soup3 = BeautifulSoup(c.get_body_content(), 'html.parser')\n",
        "    text = [para.get_text() for para in soup3.find_all('p')]\n",
        "    texts += text\n",
        "    \n",
        "tesak = ' '.join(texts)\n",
        "tesak=tesak.replace('\\\\n', '')"
      ],
      "metadata": {
        "id": "WyeMJgIagFBr"
      },
      "execution_count": null,
      "outputs": []
    },
    {
      "cell_type": "markdown",
      "source": [
        "Data Frame creation"
      ],
      "metadata": {
        "id": "Oj6q5g8hgNRt"
      }
    },
    {
      "cell_type": "code",
      "source": [
        "nltk.download('stopwords')\n",
        "nltk.download('punkt')"
      ],
      "metadata": {
        "colab": {
          "base_uri": "https://localhost:8080/"
        },
        "id": "IbQHsNRQgU98",
        "outputId": "99b87a20-e182-41bd-f6fa-d6ca24c25335"
      },
      "execution_count": null,
      "outputs": [
        {
          "output_type": "stream",
          "name": "stderr",
          "text": [
            "[nltk_data] Downloading package stopwords to /root/nltk_data...\n",
            "[nltk_data]   Unzipping corpora/stopwords.zip.\n",
            "[nltk_data] Downloading package punkt to /root/nltk_data...\n",
            "[nltk_data]   Unzipping tokenizers/punkt.zip.\n"
          ]
        },
        {
          "output_type": "execute_result",
          "data": {
            "text/plain": [
              "True"
            ]
          },
          "metadata": {},
          "execution_count": 12
        }
      ]
    },
    {
      "cell_type": "code",
      "source": [
        "tesak_sent = sent_tokenize(tesak, language=\"russian\")\n",
        "koran_sent = sent_tokenize(koran, language=\"russian\")"
      ],
      "metadata": {
        "id": "6trJ5v8ngXKw"
      },
      "execution_count": null,
      "outputs": []
    },
    {
      "cell_type": "code",
      "source": [
        "df1 = pd.DataFrame(tesak_sent, columns=['sentences'])\n",
        "df1['text'] = 'Tesak'\n",
        "df1.head()\n",
        "df2 = pd.DataFrame(koran_sent, columns=['sentences'])\n",
        "df2['text'] = 'Koran'\n",
        "df2.head()"
      ],
      "metadata": {
        "colab": {
          "base_uri": "https://localhost:8080/",
          "height": 206
        },
        "id": "Y7ktjFr6gbIJ",
        "outputId": "65c37cc2-8c3a-49d8-88f9-57115b45fefc"
      },
      "execution_count": null,
      "outputs": [
        {
          "output_type": "execute_result",
          "data": {
            "text/plain": [
              "                                           sentences   text\n",
              "0          Во имя Аллаха, Милостивого, Милосердного!  Koran\n",
              "1             Это означает: я начинаю во имя Аллаха.  Koran\n",
              "2  Из лексического анализа этого словосочетания я...  Koran\n",
              "3  Аллах - одно из этих имен, означающее «Бог, Ко...  Koran\n",
              "4  Прекрасные имена Милостивый и Милосердный свид...  Koran"
            ],
            "text/html": [
              "\n",
              "  <div id=\"df-fff6601d-51fe-4e31-b0f4-bc9b907b337e\">\n",
              "    <div class=\"colab-df-container\">\n",
              "      <div>\n",
              "<style scoped>\n",
              "    .dataframe tbody tr th:only-of-type {\n",
              "        vertical-align: middle;\n",
              "    }\n",
              "\n",
              "    .dataframe tbody tr th {\n",
              "        vertical-align: top;\n",
              "    }\n",
              "\n",
              "    .dataframe thead th {\n",
              "        text-align: right;\n",
              "    }\n",
              "</style>\n",
              "<table border=\"1\" class=\"dataframe\">\n",
              "  <thead>\n",
              "    <tr style=\"text-align: right;\">\n",
              "      <th></th>\n",
              "      <th>sentences</th>\n",
              "      <th>text</th>\n",
              "    </tr>\n",
              "  </thead>\n",
              "  <tbody>\n",
              "    <tr>\n",
              "      <th>0</th>\n",
              "      <td>Во имя Аллаха, Милостивого, Милосердного!</td>\n",
              "      <td>Koran</td>\n",
              "    </tr>\n",
              "    <tr>\n",
              "      <th>1</th>\n",
              "      <td>Это означает: я начинаю во имя Аллаха.</td>\n",
              "      <td>Koran</td>\n",
              "    </tr>\n",
              "    <tr>\n",
              "      <th>2</th>\n",
              "      <td>Из лексического анализа этого словосочетания я...</td>\n",
              "      <td>Koran</td>\n",
              "    </tr>\n",
              "    <tr>\n",
              "      <th>3</th>\n",
              "      <td>Аллах - одно из этих имен, означающее «Бог, Ко...</td>\n",
              "      <td>Koran</td>\n",
              "    </tr>\n",
              "    <tr>\n",
              "      <th>4</th>\n",
              "      <td>Прекрасные имена Милостивый и Милосердный свид...</td>\n",
              "      <td>Koran</td>\n",
              "    </tr>\n",
              "  </tbody>\n",
              "</table>\n",
              "</div>\n",
              "      <button class=\"colab-df-convert\" onclick=\"convertToInteractive('df-fff6601d-51fe-4e31-b0f4-bc9b907b337e')\"\n",
              "              title=\"Convert this dataframe to an interactive table.\"\n",
              "              style=\"display:none;\">\n",
              "        \n",
              "  <svg xmlns=\"http://www.w3.org/2000/svg\" height=\"24px\"viewBox=\"0 0 24 24\"\n",
              "       width=\"24px\">\n",
              "    <path d=\"M0 0h24v24H0V0z\" fill=\"none\"/>\n",
              "    <path d=\"M18.56 5.44l.94 2.06.94-2.06 2.06-.94-2.06-.94-.94-2.06-.94 2.06-2.06.94zm-11 1L8.5 8.5l.94-2.06 2.06-.94-2.06-.94L8.5 2.5l-.94 2.06-2.06.94zm10 10l.94 2.06.94-2.06 2.06-.94-2.06-.94-.94-2.06-.94 2.06-2.06.94z\"/><path d=\"M17.41 7.96l-1.37-1.37c-.4-.4-.92-.59-1.43-.59-.52 0-1.04.2-1.43.59L10.3 9.45l-7.72 7.72c-.78.78-.78 2.05 0 2.83L4 21.41c.39.39.9.59 1.41.59.51 0 1.02-.2 1.41-.59l7.78-7.78 2.81-2.81c.8-.78.8-2.07 0-2.86zM5.41 20L4 18.59l7.72-7.72 1.47 1.35L5.41 20z\"/>\n",
              "  </svg>\n",
              "      </button>\n",
              "      \n",
              "  <style>\n",
              "    .colab-df-container {\n",
              "      display:flex;\n",
              "      flex-wrap:wrap;\n",
              "      gap: 12px;\n",
              "    }\n",
              "\n",
              "    .colab-df-convert {\n",
              "      background-color: #E8F0FE;\n",
              "      border: none;\n",
              "      border-radius: 50%;\n",
              "      cursor: pointer;\n",
              "      display: none;\n",
              "      fill: #1967D2;\n",
              "      height: 32px;\n",
              "      padding: 0 0 0 0;\n",
              "      width: 32px;\n",
              "    }\n",
              "\n",
              "    .colab-df-convert:hover {\n",
              "      background-color: #E2EBFA;\n",
              "      box-shadow: 0px 1px 2px rgba(60, 64, 67, 0.3), 0px 1px 3px 1px rgba(60, 64, 67, 0.15);\n",
              "      fill: #174EA6;\n",
              "    }\n",
              "\n",
              "    [theme=dark] .colab-df-convert {\n",
              "      background-color: #3B4455;\n",
              "      fill: #D2E3FC;\n",
              "    }\n",
              "\n",
              "    [theme=dark] .colab-df-convert:hover {\n",
              "      background-color: #434B5C;\n",
              "      box-shadow: 0px 1px 3px 1px rgba(0, 0, 0, 0.15);\n",
              "      filter: drop-shadow(0px 1px 2px rgba(0, 0, 0, 0.3));\n",
              "      fill: #FFFFFF;\n",
              "    }\n",
              "  </style>\n",
              "\n",
              "      <script>\n",
              "        const buttonEl =\n",
              "          document.querySelector('#df-fff6601d-51fe-4e31-b0f4-bc9b907b337e button.colab-df-convert');\n",
              "        buttonEl.style.display =\n",
              "          google.colab.kernel.accessAllowed ? 'block' : 'none';\n",
              "\n",
              "        async function convertToInteractive(key) {\n",
              "          const element = document.querySelector('#df-fff6601d-51fe-4e31-b0f4-bc9b907b337e');\n",
              "          const dataTable =\n",
              "            await google.colab.kernel.invokeFunction('convertToInteractive',\n",
              "                                                     [key], {});\n",
              "          if (!dataTable) return;\n",
              "\n",
              "          const docLinkHtml = 'Like what you see? Visit the ' +\n",
              "            '<a target=\"_blank\" href=https://colab.research.google.com/notebooks/data_table.ipynb>data table notebook</a>'\n",
              "            + ' to learn more about interactive tables.';\n",
              "          element.innerHTML = '';\n",
              "          dataTable['output_type'] = 'display_data';\n",
              "          await google.colab.output.renderOutput(dataTable, element);\n",
              "          const docLink = document.createElement('div');\n",
              "          docLink.innerHTML = docLinkHtml;\n",
              "          element.appendChild(docLink);\n",
              "        }\n",
              "      </script>\n",
              "    </div>\n",
              "  </div>\n",
              "  "
            ]
          },
          "metadata": {},
          "execution_count": 14
        }
      ]
    },
    {
      "cell_type": "code",
      "source": [
        "df = pd.concat([df1, df2])\n",
        "df.reset_index(inplace=True)\n",
        "df.drop('index', axis=1, inplace=True)"
      ],
      "metadata": {
        "id": "C2woe47HgeUG"
      },
      "execution_count": null,
      "outputs": []
    },
    {
      "cell_type": "code",
      "source": [
        "df.head()"
      ],
      "metadata": {
        "colab": {
          "base_uri": "https://localhost:8080/",
          "height": 206
        },
        "id": "DZ8pWwD0ghJ1",
        "outputId": "ececaeb1-4f7e-494b-a967-1e16c0aa9b83"
      },
      "execution_count": null,
      "outputs": [
        {
          "output_type": "execute_result",
          "data": {
            "text/plain": [
              "                                           sentences   text\n",
              "0  Вот принесли эти задания в колледж, надо решит...  Tesak\n",
              "1  Когда-то у меня по химии была пятерка, а я по ...  Tesak\n",
              "2  На зоне не нужно больше знать и уметь, кроме с...  Tesak\n",
              "3  Только  я сказал, сразу меня начали просить по...  Tesak\n",
              "4  Мы садимся, я открываю эти задачи и понимаю, ч...  Tesak"
            ],
            "text/html": [
              "\n",
              "  <div id=\"df-7c82a322-a582-4b6f-81b7-9ee1bc7b770a\">\n",
              "    <div class=\"colab-df-container\">\n",
              "      <div>\n",
              "<style scoped>\n",
              "    .dataframe tbody tr th:only-of-type {\n",
              "        vertical-align: middle;\n",
              "    }\n",
              "\n",
              "    .dataframe tbody tr th {\n",
              "        vertical-align: top;\n",
              "    }\n",
              "\n",
              "    .dataframe thead th {\n",
              "        text-align: right;\n",
              "    }\n",
              "</style>\n",
              "<table border=\"1\" class=\"dataframe\">\n",
              "  <thead>\n",
              "    <tr style=\"text-align: right;\">\n",
              "      <th></th>\n",
              "      <th>sentences</th>\n",
              "      <th>text</th>\n",
              "    </tr>\n",
              "  </thead>\n",
              "  <tbody>\n",
              "    <tr>\n",
              "      <th>0</th>\n",
              "      <td>Вот принесли эти задания в колледж, надо решит...</td>\n",
              "      <td>Tesak</td>\n",
              "    </tr>\n",
              "    <tr>\n",
              "      <th>1</th>\n",
              "      <td>Когда-то у меня по химии была пятерка, а я по ...</td>\n",
              "      <td>Tesak</td>\n",
              "    </tr>\n",
              "    <tr>\n",
              "      <th>2</th>\n",
              "      <td>На зоне не нужно больше знать и уметь, кроме с...</td>\n",
              "      <td>Tesak</td>\n",
              "    </tr>\n",
              "    <tr>\n",
              "      <th>3</th>\n",
              "      <td>Только  я сказал, сразу меня начали просить по...</td>\n",
              "      <td>Tesak</td>\n",
              "    </tr>\n",
              "    <tr>\n",
              "      <th>4</th>\n",
              "      <td>Мы садимся, я открываю эти задачи и понимаю, ч...</td>\n",
              "      <td>Tesak</td>\n",
              "    </tr>\n",
              "  </tbody>\n",
              "</table>\n",
              "</div>\n",
              "      <button class=\"colab-df-convert\" onclick=\"convertToInteractive('df-7c82a322-a582-4b6f-81b7-9ee1bc7b770a')\"\n",
              "              title=\"Convert this dataframe to an interactive table.\"\n",
              "              style=\"display:none;\">\n",
              "        \n",
              "  <svg xmlns=\"http://www.w3.org/2000/svg\" height=\"24px\"viewBox=\"0 0 24 24\"\n",
              "       width=\"24px\">\n",
              "    <path d=\"M0 0h24v24H0V0z\" fill=\"none\"/>\n",
              "    <path d=\"M18.56 5.44l.94 2.06.94-2.06 2.06-.94-2.06-.94-.94-2.06-.94 2.06-2.06.94zm-11 1L8.5 8.5l.94-2.06 2.06-.94-2.06-.94L8.5 2.5l-.94 2.06-2.06.94zm10 10l.94 2.06.94-2.06 2.06-.94-2.06-.94-.94-2.06-.94 2.06-2.06.94z\"/><path d=\"M17.41 7.96l-1.37-1.37c-.4-.4-.92-.59-1.43-.59-.52 0-1.04.2-1.43.59L10.3 9.45l-7.72 7.72c-.78.78-.78 2.05 0 2.83L4 21.41c.39.39.9.59 1.41.59.51 0 1.02-.2 1.41-.59l7.78-7.78 2.81-2.81c.8-.78.8-2.07 0-2.86zM5.41 20L4 18.59l7.72-7.72 1.47 1.35L5.41 20z\"/>\n",
              "  </svg>\n",
              "      </button>\n",
              "      \n",
              "  <style>\n",
              "    .colab-df-container {\n",
              "      display:flex;\n",
              "      flex-wrap:wrap;\n",
              "      gap: 12px;\n",
              "    }\n",
              "\n",
              "    .colab-df-convert {\n",
              "      background-color: #E8F0FE;\n",
              "      border: none;\n",
              "      border-radius: 50%;\n",
              "      cursor: pointer;\n",
              "      display: none;\n",
              "      fill: #1967D2;\n",
              "      height: 32px;\n",
              "      padding: 0 0 0 0;\n",
              "      width: 32px;\n",
              "    }\n",
              "\n",
              "    .colab-df-convert:hover {\n",
              "      background-color: #E2EBFA;\n",
              "      box-shadow: 0px 1px 2px rgba(60, 64, 67, 0.3), 0px 1px 3px 1px rgba(60, 64, 67, 0.15);\n",
              "      fill: #174EA6;\n",
              "    }\n",
              "\n",
              "    [theme=dark] .colab-df-convert {\n",
              "      background-color: #3B4455;\n",
              "      fill: #D2E3FC;\n",
              "    }\n",
              "\n",
              "    [theme=dark] .colab-df-convert:hover {\n",
              "      background-color: #434B5C;\n",
              "      box-shadow: 0px 1px 3px 1px rgba(0, 0, 0, 0.15);\n",
              "      filter: drop-shadow(0px 1px 2px rgba(0, 0, 0, 0.3));\n",
              "      fill: #FFFFFF;\n",
              "    }\n",
              "  </style>\n",
              "\n",
              "      <script>\n",
              "        const buttonEl =\n",
              "          document.querySelector('#df-7c82a322-a582-4b6f-81b7-9ee1bc7b770a button.colab-df-convert');\n",
              "        buttonEl.style.display =\n",
              "          google.colab.kernel.accessAllowed ? 'block' : 'none';\n",
              "\n",
              "        async function convertToInteractive(key) {\n",
              "          const element = document.querySelector('#df-7c82a322-a582-4b6f-81b7-9ee1bc7b770a');\n",
              "          const dataTable =\n",
              "            await google.colab.kernel.invokeFunction('convertToInteractive',\n",
              "                                                     [key], {});\n",
              "          if (!dataTable) return;\n",
              "\n",
              "          const docLinkHtml = 'Like what you see? Visit the ' +\n",
              "            '<a target=\"_blank\" href=https://colab.research.google.com/notebooks/data_table.ipynb>data table notebook</a>'\n",
              "            + ' to learn more about interactive tables.';\n",
              "          element.innerHTML = '';\n",
              "          dataTable['output_type'] = 'display_data';\n",
              "          await google.colab.output.renderOutput(dataTable, element);\n",
              "          const docLink = document.createElement('div');\n",
              "          docLink.innerHTML = docLinkHtml;\n",
              "          element.appendChild(docLink);\n",
              "        }\n",
              "      </script>\n",
              "    </div>\n",
              "  </div>\n",
              "  "
            ]
          },
          "metadata": {},
          "execution_count": 19
        }
      ]
    },
    {
      "cell_type": "code",
      "source": [
        "df.to_pickle('nlp_pickle')"
      ],
      "metadata": {
        "id": "duwfPkuYgpA4"
      },
      "execution_count": null,
      "outputs": []
    },
    {
      "cell_type": "code",
      "source": [
        "from nltk.probability import FreqDist\n",
        "import operator"
      ],
      "metadata": {
        "id": "MGVMeBQdg1b3"
      },
      "execution_count": null,
      "outputs": []
    },
    {
      "cell_type": "code",
      "source": [
        "import spacy"
      ],
      "metadata": {
        "id": "NIjJbPUzg6dK"
      },
      "execution_count": null,
      "outputs": []
    },
    {
      "cell_type": "code",
      "source": [
        "!python3 -m spacy download ru_core_news_md"
      ],
      "metadata": {
        "id": "CdawJYNPM01M"
      },
      "execution_count": null,
      "outputs": []
    },
    {
      "cell_type": "code",
      "source": [
        "sp = spacy.load(\"ru_core_news_md\")"
      ],
      "metadata": {
        "id": "fiGPDdBlhDy_"
      },
      "execution_count": null,
      "outputs": []
    },
    {
      "cell_type": "code",
      "source": [
        "df['tokens'] = df['sentences'].apply(lambda x: sp(x))"
      ],
      "metadata": {
        "id": "0u3TRS_-jA36"
      },
      "execution_count": null,
      "outputs": []
    },
    {
      "cell_type": "code",
      "source": [
        "df.head()"
      ],
      "metadata": {
        "colab": {
          "base_uri": "https://localhost:8080/",
          "height": 206
        },
        "id": "dVWPQ_jRkYz_",
        "outputId": "c83a4d7c-2a7e-485c-e770-07b5f1972b47"
      },
      "execution_count": null,
      "outputs": [
        {
          "output_type": "execute_result",
          "data": {
            "text/plain": [
              "                                           sentences   text  \\\n",
              "0  Вот принесли эти задания в колледж, надо решит...  Tesak   \n",
              "1  Когда-то у меня по химии была пятерка, а я по ...  Tesak   \n",
              "2  На зоне не нужно больше знать и уметь, кроме с...  Tesak   \n",
              "3  Только  я сказал, сразу меня начали просить по...  Tesak   \n",
              "4  Мы садимся, я открываю эти задачи и понимаю, ч...  Tesak   \n",
              "\n",
              "                                              tokens  \\\n",
              "0  (Вот, принесли, эти, задания, в, колледж, ,, н...   \n",
              "1  (Когда, -, то, у, меня, по, химии, была, пятер...   \n",
              "2  (На, зоне, не, нужно, больше, знать, и, уметь,...   \n",
              "3  (Только,  , я, сказал, ,, сразу, меня, начали,...   \n",
              "4  (Мы, садимся, ,, я, открываю, эти, задачи, и, ...   \n",
              "\n",
              "                                            pos_tags  \n",
              "0  {'вот': 'PART', 'принести': 'VERB', 'этот': 'D...  \n",
              "1  {'когда': 'ADV', '-': 'ADV', 'то': 'ADV', 'у':...  \n",
              "2  {'на': 'ADP', 'зона': 'NOUN', 'не': 'PART', 'н...  \n",
              "3  {'только': 'PART', ' ': 'SPACE', 'я': 'PRON', ...  \n",
              "4  {'мы': 'PRON', 'садиться': 'VERB', ',': 'PUNCT...  "
            ],
            "text/html": [
              "\n",
              "  <div id=\"df-bf075c2b-8ee1-4806-8c6e-68059c8ad107\">\n",
              "    <div class=\"colab-df-container\">\n",
              "      <div>\n",
              "<style scoped>\n",
              "    .dataframe tbody tr th:only-of-type {\n",
              "        vertical-align: middle;\n",
              "    }\n",
              "\n",
              "    .dataframe tbody tr th {\n",
              "        vertical-align: top;\n",
              "    }\n",
              "\n",
              "    .dataframe thead th {\n",
              "        text-align: right;\n",
              "    }\n",
              "</style>\n",
              "<table border=\"1\" class=\"dataframe\">\n",
              "  <thead>\n",
              "    <tr style=\"text-align: right;\">\n",
              "      <th></th>\n",
              "      <th>sentences</th>\n",
              "      <th>text</th>\n",
              "      <th>tokens</th>\n",
              "      <th>pos_tags</th>\n",
              "    </tr>\n",
              "  </thead>\n",
              "  <tbody>\n",
              "    <tr>\n",
              "      <th>0</th>\n",
              "      <td>Вот принесли эти задания в колледж, надо решит...</td>\n",
              "      <td>Tesak</td>\n",
              "      <td>(Вот, принесли, эти, задания, в, колледж, ,, н...</td>\n",
              "      <td>{'вот': 'PART', 'принести': 'VERB', 'этот': 'D...</td>\n",
              "    </tr>\n",
              "    <tr>\n",
              "      <th>1</th>\n",
              "      <td>Когда-то у меня по химии была пятерка, а я по ...</td>\n",
              "      <td>Tesak</td>\n",
              "      <td>(Когда, -, то, у, меня, по, химии, была, пятер...</td>\n",
              "      <td>{'когда': 'ADV', '-': 'ADV', 'то': 'ADV', 'у':...</td>\n",
              "    </tr>\n",
              "    <tr>\n",
              "      <th>2</th>\n",
              "      <td>На зоне не нужно больше знать и уметь, кроме с...</td>\n",
              "      <td>Tesak</td>\n",
              "      <td>(На, зоне, не, нужно, больше, знать, и, уметь,...</td>\n",
              "      <td>{'на': 'ADP', 'зона': 'NOUN', 'не': 'PART', 'н...</td>\n",
              "    </tr>\n",
              "    <tr>\n",
              "      <th>3</th>\n",
              "      <td>Только  я сказал, сразу меня начали просить по...</td>\n",
              "      <td>Tesak</td>\n",
              "      <td>(Только,  , я, сказал, ,, сразу, меня, начали,...</td>\n",
              "      <td>{'только': 'PART', ' ': 'SPACE', 'я': 'PRON', ...</td>\n",
              "    </tr>\n",
              "    <tr>\n",
              "      <th>4</th>\n",
              "      <td>Мы садимся, я открываю эти задачи и понимаю, ч...</td>\n",
              "      <td>Tesak</td>\n",
              "      <td>(Мы, садимся, ,, я, открываю, эти, задачи, и, ...</td>\n",
              "      <td>{'мы': 'PRON', 'садиться': 'VERB', ',': 'PUNCT...</td>\n",
              "    </tr>\n",
              "  </tbody>\n",
              "</table>\n",
              "</div>\n",
              "      <button class=\"colab-df-convert\" onclick=\"convertToInteractive('df-bf075c2b-8ee1-4806-8c6e-68059c8ad107')\"\n",
              "              title=\"Convert this dataframe to an interactive table.\"\n",
              "              style=\"display:none;\">\n",
              "        \n",
              "  <svg xmlns=\"http://www.w3.org/2000/svg\" height=\"24px\"viewBox=\"0 0 24 24\"\n",
              "       width=\"24px\">\n",
              "    <path d=\"M0 0h24v24H0V0z\" fill=\"none\"/>\n",
              "    <path d=\"M18.56 5.44l.94 2.06.94-2.06 2.06-.94-2.06-.94-.94-2.06-.94 2.06-2.06.94zm-11 1L8.5 8.5l.94-2.06 2.06-.94-2.06-.94L8.5 2.5l-.94 2.06-2.06.94zm10 10l.94 2.06.94-2.06 2.06-.94-2.06-.94-.94-2.06-.94 2.06-2.06.94z\"/><path d=\"M17.41 7.96l-1.37-1.37c-.4-.4-.92-.59-1.43-.59-.52 0-1.04.2-1.43.59L10.3 9.45l-7.72 7.72c-.78.78-.78 2.05 0 2.83L4 21.41c.39.39.9.59 1.41.59.51 0 1.02-.2 1.41-.59l7.78-7.78 2.81-2.81c.8-.78.8-2.07 0-2.86zM5.41 20L4 18.59l7.72-7.72 1.47 1.35L5.41 20z\"/>\n",
              "  </svg>\n",
              "      </button>\n",
              "      \n",
              "  <style>\n",
              "    .colab-df-container {\n",
              "      display:flex;\n",
              "      flex-wrap:wrap;\n",
              "      gap: 12px;\n",
              "    }\n",
              "\n",
              "    .colab-df-convert {\n",
              "      background-color: #E8F0FE;\n",
              "      border: none;\n",
              "      border-radius: 50%;\n",
              "      cursor: pointer;\n",
              "      display: none;\n",
              "      fill: #1967D2;\n",
              "      height: 32px;\n",
              "      padding: 0 0 0 0;\n",
              "      width: 32px;\n",
              "    }\n",
              "\n",
              "    .colab-df-convert:hover {\n",
              "      background-color: #E2EBFA;\n",
              "      box-shadow: 0px 1px 2px rgba(60, 64, 67, 0.3), 0px 1px 3px 1px rgba(60, 64, 67, 0.15);\n",
              "      fill: #174EA6;\n",
              "    }\n",
              "\n",
              "    [theme=dark] .colab-df-convert {\n",
              "      background-color: #3B4455;\n",
              "      fill: #D2E3FC;\n",
              "    }\n",
              "\n",
              "    [theme=dark] .colab-df-convert:hover {\n",
              "      background-color: #434B5C;\n",
              "      box-shadow: 0px 1px 3px 1px rgba(0, 0, 0, 0.15);\n",
              "      filter: drop-shadow(0px 1px 2px rgba(0, 0, 0, 0.3));\n",
              "      fill: #FFFFFF;\n",
              "    }\n",
              "  </style>\n",
              "\n",
              "      <script>\n",
              "        const buttonEl =\n",
              "          document.querySelector('#df-bf075c2b-8ee1-4806-8c6e-68059c8ad107 button.colab-df-convert');\n",
              "        buttonEl.style.display =\n",
              "          google.colab.kernel.accessAllowed ? 'block' : 'none';\n",
              "\n",
              "        async function convertToInteractive(key) {\n",
              "          const element = document.querySelector('#df-bf075c2b-8ee1-4806-8c6e-68059c8ad107');\n",
              "          const dataTable =\n",
              "            await google.colab.kernel.invokeFunction('convertToInteractive',\n",
              "                                                     [key], {});\n",
              "          if (!dataTable) return;\n",
              "\n",
              "          const docLinkHtml = 'Like what you see? Visit the ' +\n",
              "            '<a target=\"_blank\" href=https://colab.research.google.com/notebooks/data_table.ipynb>data table notebook</a>'\n",
              "            + ' to learn more about interactive tables.';\n",
              "          element.innerHTML = '';\n",
              "          dataTable['output_type'] = 'display_data';\n",
              "          await google.colab.output.renderOutput(dataTable, element);\n",
              "          const docLink = document.createElement('div');\n",
              "          docLink.innerHTML = docLinkHtml;\n",
              "          element.appendChild(docLink);\n",
              "        }\n",
              "      </script>\n",
              "    </div>\n",
              "  </div>\n",
              "  "
            ]
          },
          "metadata": {},
          "execution_count": 29
        }
      ]
    },
    {
      "cell_type": "code",
      "source": [
        "df['pos_tags'] = df['tokens'].apply(lambda x: {i.lemma_: i.pos_ for i in x})"
      ],
      "metadata": {
        "id": "HlQxLZAeRKog"
      },
      "execution_count": null,
      "outputs": []
    },
    {
      "cell_type": "code",
      "source": [
        "df['ner'] = df['tokens'].apply(lambda x: )"
      ],
      "metadata": {
        "id": "uN7uKpcYRXmR"
      },
      "execution_count": null,
      "outputs": []
    },
    {
      "cell_type": "code",
      "source": [
        "df_train = df.head()"
      ],
      "metadata": {
        "id": "phhP4DsqSsDv"
      },
      "execution_count": null,
      "outputs": []
    },
    {
      "cell_type": "code",
      "source": [
        "df_train['ner'] = df_train['tokens'].apply(lambda x: x.ents)"
      ],
      "metadata": {
        "colab": {
          "base_uri": "https://localhost:8080/"
        },
        "id": "Z-JtzAE-SvtE",
        "outputId": "e8c4aeb7-6f3e-415c-98bc-ec0fdef8c71b"
      },
      "execution_count": null,
      "outputs": [
        {
          "output_type": "stream",
          "name": "stderr",
          "text": [
            "/usr/local/lib/python3.7/dist-packages/ipykernel_launcher.py:1: SettingWithCopyWarning: \n",
            "A value is trying to be set on a copy of a slice from a DataFrame.\n",
            "Try using .loc[row_indexer,col_indexer] = value instead\n",
            "\n",
            "See the caveats in the documentation: https://pandas.pydata.org/pandas-docs/stable/user_guide/indexing.html#returning-a-view-versus-a-copy\n",
            "  \"\"\"Entry point for launching an IPython kernel.\n"
          ]
        }
      ]
    },
    {
      "cell_type": "code",
      "source": [
        "df_train.head()"
      ],
      "metadata": {
        "colab": {
          "base_uri": "https://localhost:8080/",
          "height": 250
        },
        "id": "O9DZJLIZTCR0",
        "outputId": "35b16cfa-2ccd-4578-a99c-e83fb5d72bab"
      },
      "execution_count": null,
      "outputs": [
        {
          "output_type": "execute_result",
          "data": {
            "text/plain": [
              "                                           sentences   text  \\\n",
              "0  Вот принесли эти задания в колледж, надо решит...  Tesak   \n",
              "1  Когда-то у меня по химии была пятерка, а я по ...  Tesak   \n",
              "2  На зоне не нужно больше знать и уметь, кроме с...  Tesak   \n",
              "3  Только  я сказал, сразу меня начали просить по...  Tesak   \n",
              "4  Мы садимся, я открываю эти задачи и понимаю, ч...  Tesak   \n",
              "\n",
              "                                              tokens  \\\n",
              "0  (Вот, принесли, эти, задания, в, колледж, ,, н...   \n",
              "1  (Когда, -, то, у, меня, по, химии, была, пятер...   \n",
              "2  (На, зоне, не, нужно, больше, знать, и, уметь,...   \n",
              "3  (Только,  , я, сказал, ,, сразу, меня, начали,...   \n",
              "4  (Мы, садимся, ,, я, открываю, эти, задачи, и, ...   \n",
              "\n",
              "                                            pos_tags ner  \n",
              "0  {'вот': 'PART', 'принести': 'VERB', 'этот': 'D...  ()  \n",
              "1  {'когда': 'ADV', '-': 'ADV', 'то': 'ADV', 'у':...  ()  \n",
              "2  {'на': 'ADP', 'зона': 'NOUN', 'не': 'PART', 'н...  ()  \n",
              "3  {'только': 'PART', ' ': 'SPACE', 'я': 'PRON', ...  ()  \n",
              "4  {'мы': 'PRON', 'садиться': 'VERB', ',': 'PUNCT...  ()  "
            ],
            "text/html": [
              "\n",
              "  <div id=\"df-f769ed63-47fa-4e7c-b35a-c15da24cdc74\">\n",
              "    <div class=\"colab-df-container\">\n",
              "      <div>\n",
              "<style scoped>\n",
              "    .dataframe tbody tr th:only-of-type {\n",
              "        vertical-align: middle;\n",
              "    }\n",
              "\n",
              "    .dataframe tbody tr th {\n",
              "        vertical-align: top;\n",
              "    }\n",
              "\n",
              "    .dataframe thead th {\n",
              "        text-align: right;\n",
              "    }\n",
              "</style>\n",
              "<table border=\"1\" class=\"dataframe\">\n",
              "  <thead>\n",
              "    <tr style=\"text-align: right;\">\n",
              "      <th></th>\n",
              "      <th>sentences</th>\n",
              "      <th>text</th>\n",
              "      <th>tokens</th>\n",
              "      <th>pos_tags</th>\n",
              "      <th>ner</th>\n",
              "    </tr>\n",
              "  </thead>\n",
              "  <tbody>\n",
              "    <tr>\n",
              "      <th>0</th>\n",
              "      <td>Вот принесли эти задания в колледж, надо решит...</td>\n",
              "      <td>Tesak</td>\n",
              "      <td>(Вот, принесли, эти, задания, в, колледж, ,, н...</td>\n",
              "      <td>{'вот': 'PART', 'принести': 'VERB', 'этот': 'D...</td>\n",
              "      <td>()</td>\n",
              "    </tr>\n",
              "    <tr>\n",
              "      <th>1</th>\n",
              "      <td>Когда-то у меня по химии была пятерка, а я по ...</td>\n",
              "      <td>Tesak</td>\n",
              "      <td>(Когда, -, то, у, меня, по, химии, была, пятер...</td>\n",
              "      <td>{'когда': 'ADV', '-': 'ADV', 'то': 'ADV', 'у':...</td>\n",
              "      <td>()</td>\n",
              "    </tr>\n",
              "    <tr>\n",
              "      <th>2</th>\n",
              "      <td>На зоне не нужно больше знать и уметь, кроме с...</td>\n",
              "      <td>Tesak</td>\n",
              "      <td>(На, зоне, не, нужно, больше, знать, и, уметь,...</td>\n",
              "      <td>{'на': 'ADP', 'зона': 'NOUN', 'не': 'PART', 'н...</td>\n",
              "      <td>()</td>\n",
              "    </tr>\n",
              "    <tr>\n",
              "      <th>3</th>\n",
              "      <td>Только  я сказал, сразу меня начали просить по...</td>\n",
              "      <td>Tesak</td>\n",
              "      <td>(Только,  , я, сказал, ,, сразу, меня, начали,...</td>\n",
              "      <td>{'только': 'PART', ' ': 'SPACE', 'я': 'PRON', ...</td>\n",
              "      <td>()</td>\n",
              "    </tr>\n",
              "    <tr>\n",
              "      <th>4</th>\n",
              "      <td>Мы садимся, я открываю эти задачи и понимаю, ч...</td>\n",
              "      <td>Tesak</td>\n",
              "      <td>(Мы, садимся, ,, я, открываю, эти, задачи, и, ...</td>\n",
              "      <td>{'мы': 'PRON', 'садиться': 'VERB', ',': 'PUNCT...</td>\n",
              "      <td>()</td>\n",
              "    </tr>\n",
              "  </tbody>\n",
              "</table>\n",
              "</div>\n",
              "      <button class=\"colab-df-convert\" onclick=\"convertToInteractive('df-f769ed63-47fa-4e7c-b35a-c15da24cdc74')\"\n",
              "              title=\"Convert this dataframe to an interactive table.\"\n",
              "              style=\"display:none;\">\n",
              "        \n",
              "  <svg xmlns=\"http://www.w3.org/2000/svg\" height=\"24px\"viewBox=\"0 0 24 24\"\n",
              "       width=\"24px\">\n",
              "    <path d=\"M0 0h24v24H0V0z\" fill=\"none\"/>\n",
              "    <path d=\"M18.56 5.44l.94 2.06.94-2.06 2.06-.94-2.06-.94-.94-2.06-.94 2.06-2.06.94zm-11 1L8.5 8.5l.94-2.06 2.06-.94-2.06-.94L8.5 2.5l-.94 2.06-2.06.94zm10 10l.94 2.06.94-2.06 2.06-.94-2.06-.94-.94-2.06-.94 2.06-2.06.94z\"/><path d=\"M17.41 7.96l-1.37-1.37c-.4-.4-.92-.59-1.43-.59-.52 0-1.04.2-1.43.59L10.3 9.45l-7.72 7.72c-.78.78-.78 2.05 0 2.83L4 21.41c.39.39.9.59 1.41.59.51 0 1.02-.2 1.41-.59l7.78-7.78 2.81-2.81c.8-.78.8-2.07 0-2.86zM5.41 20L4 18.59l7.72-7.72 1.47 1.35L5.41 20z\"/>\n",
              "  </svg>\n",
              "      </button>\n",
              "      \n",
              "  <style>\n",
              "    .colab-df-container {\n",
              "      display:flex;\n",
              "      flex-wrap:wrap;\n",
              "      gap: 12px;\n",
              "    }\n",
              "\n",
              "    .colab-df-convert {\n",
              "      background-color: #E8F0FE;\n",
              "      border: none;\n",
              "      border-radius: 50%;\n",
              "      cursor: pointer;\n",
              "      display: none;\n",
              "      fill: #1967D2;\n",
              "      height: 32px;\n",
              "      padding: 0 0 0 0;\n",
              "      width: 32px;\n",
              "    }\n",
              "\n",
              "    .colab-df-convert:hover {\n",
              "      background-color: #E2EBFA;\n",
              "      box-shadow: 0px 1px 2px rgba(60, 64, 67, 0.3), 0px 1px 3px 1px rgba(60, 64, 67, 0.15);\n",
              "      fill: #174EA6;\n",
              "    }\n",
              "\n",
              "    [theme=dark] .colab-df-convert {\n",
              "      background-color: #3B4455;\n",
              "      fill: #D2E3FC;\n",
              "    }\n",
              "\n",
              "    [theme=dark] .colab-df-convert:hover {\n",
              "      background-color: #434B5C;\n",
              "      box-shadow: 0px 1px 3px 1px rgba(0, 0, 0, 0.15);\n",
              "      filter: drop-shadow(0px 1px 2px rgba(0, 0, 0, 0.3));\n",
              "      fill: #FFFFFF;\n",
              "    }\n",
              "  </style>\n",
              "\n",
              "      <script>\n",
              "        const buttonEl =\n",
              "          document.querySelector('#df-f769ed63-47fa-4e7c-b35a-c15da24cdc74 button.colab-df-convert');\n",
              "        buttonEl.style.display =\n",
              "          google.colab.kernel.accessAllowed ? 'block' : 'none';\n",
              "\n",
              "        async function convertToInteractive(key) {\n",
              "          const element = document.querySelector('#df-f769ed63-47fa-4e7c-b35a-c15da24cdc74');\n",
              "          const dataTable =\n",
              "            await google.colab.kernel.invokeFunction('convertToInteractive',\n",
              "                                                     [key], {});\n",
              "          if (!dataTable) return;\n",
              "\n",
              "          const docLinkHtml = 'Like what you see? Visit the ' +\n",
              "            '<a target=\"_blank\" href=https://colab.research.google.com/notebooks/data_table.ipynb>data table notebook</a>'\n",
              "            + ' to learn more about interactive tables.';\n",
              "          element.innerHTML = '';\n",
              "          dataTable['output_type'] = 'display_data';\n",
              "          await google.colab.output.renderOutput(dataTable, element);\n",
              "          const docLink = document.createElement('div');\n",
              "          docLink.innerHTML = docLinkHtml;\n",
              "          element.appendChild(docLink);\n",
              "        }\n",
              "      </script>\n",
              "    </div>\n",
              "  </div>\n",
              "  "
            ]
          },
          "metadata": {},
          "execution_count": 33
        }
      ]
    },
    {
      "cell_type": "code",
      "source": [
        "df = pd.read_pickle('nlp_pickle')"
      ],
      "metadata": {
        "id": "fOaHZ4O_NATD"
      },
      "execution_count": null,
      "outputs": []
    },
    {
      "cell_type": "code",
      "source": [
        "!pip install -q deeppavlov"
      ],
      "metadata": {
        "id": "QnCFvCzJVSX_"
      },
      "execution_count": null,
      "outputs": []
    },
    {
      "cell_type": "code",
      "source": [
        "!python -m deeppavlov install ner_rus\n",
        "!python -m deeppavlov install ner_rus_bert"
      ],
      "metadata": {
        "id": "9s46op33VUxv"
      },
      "execution_count": null,
      "outputs": []
    },
    {
      "cell_type": "code",
      "source": [
        "from deeppavlov import configs, build_model\n",
        "\n",
        "config_path = configs.ner.ner_rus\n"
      ],
      "metadata": {
        "id": "-x97aiEkVako"
      },
      "execution_count": null,
      "outputs": []
    },
    {
      "cell_type": "code",
      "source": [
        "from deeppavlov.models.tokenizers.nltk_tokenizer import NLTKTokenizer"
      ],
      "metadata": {
        "id": "R4XY0teN4xVQ"
      },
      "execution_count": null,
      "outputs": []
    },
    {
      "cell_type": "code",
      "source": [
        "toknz = NLTKTokenizer(tokenizer='wordpunct_tokenize')"
      ],
      "metadata": {
        "id": "sqwQaIrr5JJN"
      },
      "execution_count": null,
      "outputs": []
    },
    {
      "cell_type": "code",
      "source": [
        "ner = build_model(config_path, download=True)"
      ],
      "metadata": {
        "id": "KWNoqzVpcoEx"
      },
      "execution_count": null,
      "outputs": []
    },
    {
      "cell_type": "code",
      "source": [
        "def for_bert(text):\n",
        "  tokens, tags = ner([text])\n",
        "  return [(tok, tag) for tok, tag in zip(tokens[0], tags[0])]  "
      ],
      "metadata": {
        "id": "99iTBqGJgucq"
      },
      "execution_count": null,
      "outputs": []
    },
    {
      "cell_type": "code",
      "source": [
        "df_train['ner'] = df_train['sentences'].apply(for_bert)"
      ],
      "metadata": {
        "id": "VsD-U7u4dz0V"
      },
      "execution_count": null,
      "outputs": []
    },
    {
      "cell_type": "code",
      "source": [
        "df_train.ner"
      ],
      "metadata": {
        "colab": {
          "base_uri": "https://localhost:8080/"
        },
        "id": "JsCtNKJNhhdU",
        "outputId": "b42c035a-1d3b-4a8c-fed7-a97b084c2cfa"
      },
      "execution_count": null,
      "outputs": [
        {
          "output_type": "execute_result",
          "data": {
            "text/plain": [
              "0    {'Вот': 'O', 'принесли': 'O', 'эти': 'O', 'зад...\n",
              "1    {'Когда': 'O', '-': 'O', 'то': 'O', 'у': 'O', ...\n",
              "2    {'На': 'O', 'зоне': 'O', 'не': 'O', 'нужно': '...\n",
              "3    {'Только': 'O', 'я': 'O', 'сказал': 'O', ',': ...\n",
              "4    {'Мы': 'O', 'садимся': 'O', ',': 'O', 'я': 'O'...\n",
              "Name: ner, dtype: object"
            ]
          },
          "metadata": {},
          "execution_count": 22
        }
      ]
    },
    {
      "cell_type": "code",
      "source": [
        "!pip install tqdm"
      ],
      "metadata": {
        "colab": {
          "base_uri": "https://localhost:8080/"
        },
        "id": "y1-aMCriFf4o",
        "outputId": "6b5a8f83-9f13-4e0a-aa53-7f0998659ca0"
      },
      "execution_count": null,
      "outputs": [
        {
          "output_type": "stream",
          "name": "stdout",
          "text": [
            "Looking in indexes: https://pypi.org/simple, https://us-python.pkg.dev/colab-wheels/public/simple/\n",
            "Requirement already satisfied: tqdm in /usr/local/lib/python3.7/dist-packages (4.64.0)\n"
          ]
        }
      ]
    },
    {
      "cell_type": "code",
      "source": [
        "from tqdm import tqdm, tqdm_notebook"
      ],
      "metadata": {
        "id": "LJMElCMHF0Wz"
      },
      "execution_count": null,
      "outputs": []
    },
    {
      "cell_type": "code",
      "source": [
        "tqdm.pandas(desc=\"Example Desc\")"
      ],
      "metadata": {
        "id": "7KUcd8bBFkiH"
      },
      "execution_count": null,
      "outputs": []
    },
    {
      "cell_type": "code",
      "source": [
        "df['ner'] = df['sentences'].progress_apply(for_bert)"
      ],
      "metadata": {
        "colab": {
          "base_uri": "https://localhost:8080/"
        },
        "id": "MZx9Wyp-h7Df",
        "outputId": "ffd961aa-f1ae-409a-d608-de79295450f8"
      },
      "execution_count": null,
      "outputs": [
        {
          "output_type": "stream",
          "name": "stderr",
          "text": [
            "Example Desc: 100%|██████████| 65764/65764 [11:47<00:00, 92.98it/s]\n"
          ]
        }
      ]
    },
    {
      "cell_type": "code",
      "source": [
        "df_train = df.head()"
      ],
      "metadata": {
        "id": "ozi1mY1ciAEo"
      },
      "execution_count": null,
      "outputs": []
    },
    {
      "cell_type": "code",
      "source": [
        "df_train['tokens'] = df_train.sentences.progress_apply(lambda x: toknz(x))"
      ],
      "metadata": {
        "id": "3N4L31rSsfPU",
        "colab": {
          "base_uri": "https://localhost:8080/"
        },
        "outputId": "8e74b068-0ad8-439c-b9a8-9b736f14c8a1"
      },
      "execution_count": null,
      "outputs": [
        {
          "output_type": "stream",
          "name": "stderr",
          "text": [
            "Example Desc: 100%|██████████| 5/5 [00:00<00:00, 350.20it/s]\n",
            "/usr/local/lib/python3.7/dist-packages/pandas/core/frame.py:3607: SettingWithCopyWarning: \n",
            "A value is trying to be set on a copy of a slice from a DataFrame.\n",
            "Try using .loc[row_indexer,col_indexer] = value instead\n",
            "\n",
            "See the caveats in the documentation: https://pandas.pydata.org/pandas-docs/stable/user_guide/indexing.html#returning-a-view-versus-a-copy\n",
            "  If the values are not callable, (e.g. a Series, scalar, or array),\n"
          ]
        }
      ]
    },
    {
      "cell_type": "code",
      "source": [
        "from nltk.tokenize import word_tokenize#text, language='english')"
      ],
      "metadata": {
        "id": "zKosz3cIC--Z"
      },
      "execution_count": null,
      "outputs": []
    },
    {
      "cell_type": "code",
      "source": [
        "df_train['tokens'] = df_train.sentences.progress_apply(lambda x: word_tokenize(x, language='russian'))"
      ],
      "metadata": {
        "id": "GeMEa40KD4l3"
      },
      "execution_count": null,
      "outputs": []
    },
    {
      "cell_type": "code",
      "source": [
        "df['tokens'] = df.sentences.progress_apply(lambda x: word_tokenize(x, language='russian'))"
      ],
      "metadata": {
        "colab": {
          "base_uri": "https://localhost:8080/"
        },
        "id": "DdTAoCmFEHMb",
        "outputId": "dc35799f-c0c3-42aa-ffd1-9f9123ca3e7d"
      },
      "execution_count": null,
      "outputs": [
        {
          "output_type": "stream",
          "name": "stderr",
          "text": [
            "Example Desc: 100%|██████████| 65764/65764 [00:11<00:00, 5508.03it/s]\n"
          ]
        }
      ]
    },
    {
      "cell_type": "code",
      "source": [
        "df_train"
      ],
      "metadata": {
        "colab": {
          "base_uri": "https://localhost:8080/",
          "height": 206
        },
        "id": "pIETF3tv54cw",
        "outputId": "2cf78607-74c7-4cfe-e5a5-b0bd73b450a4"
      },
      "execution_count": null,
      "outputs": [
        {
          "output_type": "execute_result",
          "data": {
            "text/plain": [
              "                                           sentences   text  \\\n",
              "0  Вот принесли эти задания в колледж, надо решит...  Tesak   \n",
              "1  Когда-то у меня по химии была пятерка, а я по ...  Tesak   \n",
              "2  На зоне не нужно больше знать и уметь, кроме с...  Tesak   \n",
              "3  Только  я сказал, сразу меня начали просить по...  Tesak   \n",
              "4  Мы садимся, я открываю эти задачи и понимаю, ч...  Tesak   \n",
              "\n",
              "                                                 ner  \\\n",
              "0  [(Вот, O), (принесли, O), (эти, O), (задания, ...   \n",
              "1  [(Когда-то, O), (у, O), (меня, O), (по, O), (х...   \n",
              "2  [(На, O), (зоне, O), (не, O), (нужно, O), (бол...   \n",
              "3  [(Только, O), (я, O), (сказал, O), (,, O), (ср...   \n",
              "4  [(Мы, O), (садимся, O), (,, O), (я, O), (откры...   \n",
              "\n",
              "                                              tokens  \n",
              "0  [Вот, принесли, эти, задания, в, колледж, ,, н...  \n",
              "1  [Когда-то, у, меня, по, химии, была, пятерка, ...  \n",
              "2  [На, зоне, не, нужно, больше, знать, и, уметь,...  \n",
              "3  [Только, я, сказал, ,, сразу, меня, начали, пр...  \n",
              "4  [Мы, садимся, ,, я, открываю, эти, задачи, и, ...  "
            ],
            "text/html": [
              "\n",
              "  <div id=\"df-78a74902-1d3b-4dea-a4e9-9244846be5e9\">\n",
              "    <div class=\"colab-df-container\">\n",
              "      <div>\n",
              "<style scoped>\n",
              "    .dataframe tbody tr th:only-of-type {\n",
              "        vertical-align: middle;\n",
              "    }\n",
              "\n",
              "    .dataframe tbody tr th {\n",
              "        vertical-align: top;\n",
              "    }\n",
              "\n",
              "    .dataframe thead th {\n",
              "        text-align: right;\n",
              "    }\n",
              "</style>\n",
              "<table border=\"1\" class=\"dataframe\">\n",
              "  <thead>\n",
              "    <tr style=\"text-align: right;\">\n",
              "      <th></th>\n",
              "      <th>sentences</th>\n",
              "      <th>text</th>\n",
              "      <th>ner</th>\n",
              "      <th>tokens</th>\n",
              "    </tr>\n",
              "  </thead>\n",
              "  <tbody>\n",
              "    <tr>\n",
              "      <th>0</th>\n",
              "      <td>Вот принесли эти задания в колледж, надо решит...</td>\n",
              "      <td>Tesak</td>\n",
              "      <td>[(Вот, O), (принесли, O), (эти, O), (задания, ...</td>\n",
              "      <td>[Вот, принесли, эти, задания, в, колледж, ,, н...</td>\n",
              "    </tr>\n",
              "    <tr>\n",
              "      <th>1</th>\n",
              "      <td>Когда-то у меня по химии была пятерка, а я по ...</td>\n",
              "      <td>Tesak</td>\n",
              "      <td>[(Когда-то, O), (у, O), (меня, O), (по, O), (х...</td>\n",
              "      <td>[Когда-то, у, меня, по, химии, была, пятерка, ...</td>\n",
              "    </tr>\n",
              "    <tr>\n",
              "      <th>2</th>\n",
              "      <td>На зоне не нужно больше знать и уметь, кроме с...</td>\n",
              "      <td>Tesak</td>\n",
              "      <td>[(На, O), (зоне, O), (не, O), (нужно, O), (бол...</td>\n",
              "      <td>[На, зоне, не, нужно, больше, знать, и, уметь,...</td>\n",
              "    </tr>\n",
              "    <tr>\n",
              "      <th>3</th>\n",
              "      <td>Только  я сказал, сразу меня начали просить по...</td>\n",
              "      <td>Tesak</td>\n",
              "      <td>[(Только, O), (я, O), (сказал, O), (,, O), (ср...</td>\n",
              "      <td>[Только, я, сказал, ,, сразу, меня, начали, пр...</td>\n",
              "    </tr>\n",
              "    <tr>\n",
              "      <th>4</th>\n",
              "      <td>Мы садимся, я открываю эти задачи и понимаю, ч...</td>\n",
              "      <td>Tesak</td>\n",
              "      <td>[(Мы, O), (садимся, O), (,, O), (я, O), (откры...</td>\n",
              "      <td>[Мы, садимся, ,, я, открываю, эти, задачи, и, ...</td>\n",
              "    </tr>\n",
              "  </tbody>\n",
              "</table>\n",
              "</div>\n",
              "      <button class=\"colab-df-convert\" onclick=\"convertToInteractive('df-78a74902-1d3b-4dea-a4e9-9244846be5e9')\"\n",
              "              title=\"Convert this dataframe to an interactive table.\"\n",
              "              style=\"display:none;\">\n",
              "        \n",
              "  <svg xmlns=\"http://www.w3.org/2000/svg\" height=\"24px\"viewBox=\"0 0 24 24\"\n",
              "       width=\"24px\">\n",
              "    <path d=\"M0 0h24v24H0V0z\" fill=\"none\"/>\n",
              "    <path d=\"M18.56 5.44l.94 2.06.94-2.06 2.06-.94-2.06-.94-.94-2.06-.94 2.06-2.06.94zm-11 1L8.5 8.5l.94-2.06 2.06-.94-2.06-.94L8.5 2.5l-.94 2.06-2.06.94zm10 10l.94 2.06.94-2.06 2.06-.94-2.06-.94-.94-2.06-.94 2.06-2.06.94z\"/><path d=\"M17.41 7.96l-1.37-1.37c-.4-.4-.92-.59-1.43-.59-.52 0-1.04.2-1.43.59L10.3 9.45l-7.72 7.72c-.78.78-.78 2.05 0 2.83L4 21.41c.39.39.9.59 1.41.59.51 0 1.02-.2 1.41-.59l7.78-7.78 2.81-2.81c.8-.78.8-2.07 0-2.86zM5.41 20L4 18.59l7.72-7.72 1.47 1.35L5.41 20z\"/>\n",
              "  </svg>\n",
              "      </button>\n",
              "      \n",
              "  <style>\n",
              "    .colab-df-container {\n",
              "      display:flex;\n",
              "      flex-wrap:wrap;\n",
              "      gap: 12px;\n",
              "    }\n",
              "\n",
              "    .colab-df-convert {\n",
              "      background-color: #E8F0FE;\n",
              "      border: none;\n",
              "      border-radius: 50%;\n",
              "      cursor: pointer;\n",
              "      display: none;\n",
              "      fill: #1967D2;\n",
              "      height: 32px;\n",
              "      padding: 0 0 0 0;\n",
              "      width: 32px;\n",
              "    }\n",
              "\n",
              "    .colab-df-convert:hover {\n",
              "      background-color: #E2EBFA;\n",
              "      box-shadow: 0px 1px 2px rgba(60, 64, 67, 0.3), 0px 1px 3px 1px rgba(60, 64, 67, 0.15);\n",
              "      fill: #174EA6;\n",
              "    }\n",
              "\n",
              "    [theme=dark] .colab-df-convert {\n",
              "      background-color: #3B4455;\n",
              "      fill: #D2E3FC;\n",
              "    }\n",
              "\n",
              "    [theme=dark] .colab-df-convert:hover {\n",
              "      background-color: #434B5C;\n",
              "      box-shadow: 0px 1px 3px 1px rgba(0, 0, 0, 0.15);\n",
              "      filter: drop-shadow(0px 1px 2px rgba(0, 0, 0, 0.3));\n",
              "      fill: #FFFFFF;\n",
              "    }\n",
              "  </style>\n",
              "\n",
              "      <script>\n",
              "        const buttonEl =\n",
              "          document.querySelector('#df-78a74902-1d3b-4dea-a4e9-9244846be5e9 button.colab-df-convert');\n",
              "        buttonEl.style.display =\n",
              "          google.colab.kernel.accessAllowed ? 'block' : 'none';\n",
              "\n",
              "        async function convertToInteractive(key) {\n",
              "          const element = document.querySelector('#df-78a74902-1d3b-4dea-a4e9-9244846be5e9');\n",
              "          const dataTable =\n",
              "            await google.colab.kernel.invokeFunction('convertToInteractive',\n",
              "                                                     [key], {});\n",
              "          if (!dataTable) return;\n",
              "\n",
              "          const docLinkHtml = 'Like what you see? Visit the ' +\n",
              "            '<a target=\"_blank\" href=https://colab.research.google.com/notebooks/data_table.ipynb>data table notebook</a>'\n",
              "            + ' to learn more about interactive tables.';\n",
              "          element.innerHTML = '';\n",
              "          dataTable['output_type'] = 'display_data';\n",
              "          await google.colab.output.renderOutput(dataTable, element);\n",
              "          const docLink = document.createElement('div');\n",
              "          docLink.innerHTML = docLinkHtml;\n",
              "          element.appendChild(docLink);\n",
              "        }\n",
              "      </script>\n",
              "    </div>\n",
              "  </div>\n",
              "  "
            ]
          },
          "metadata": {},
          "execution_count": 44
        }
      ]
    },
    {
      "cell_type": "code",
      "source": [
        "!pip install pymorphy2\n",
        "!pip install -U pymorphy2-dicts-ru"
      ],
      "metadata": {
        "id": "h5HbkJcoHxAN"
      },
      "execution_count": null,
      "outputs": []
    },
    {
      "cell_type": "code",
      "source": [
        "import pymorphy2"
      ],
      "metadata": {
        "id": "wmCbyP0LIHHy"
      },
      "execution_count": null,
      "outputs": []
    },
    {
      "cell_type": "code",
      "source": [
        "morph = pymorphy2.MorphAnalyzer()"
      ],
      "metadata": {
        "id": "oxDYEd2DId4v"
      },
      "execution_count": null,
      "outputs": []
    },
    {
      "cell_type": "code",
      "source": [
        "def morph_tag(x):\n",
        "  return [(i, str(morph.parse(i)[0].tag.POS)) for i in x]"
      ],
      "metadata": {
        "id": "yq6YbFfEIfOO"
      },
      "execution_count": null,
      "outputs": []
    },
    {
      "cell_type": "code",
      "source": [
        "df_train['tags'] = df_train.tokens.progress_apply(morph_tag)"
      ],
      "metadata": {
        "id": "IXCxu1wgeZTQ"
      },
      "execution_count": null,
      "outputs": []
    },
    {
      "cell_type": "code",
      "source": [
        "df['tags'] = df.tokens.progress_apply(morph_tag)"
      ],
      "metadata": {
        "colab": {
          "base_uri": "https://localhost:8080/"
        },
        "id": "NP30JazzqKK0",
        "outputId": "532b54fe-a668-4b74-ed6f-d5b5e86a9ef6"
      },
      "execution_count": null,
      "outputs": [
        {
          "output_type": "stream",
          "name": "stderr",
          "text": [
            "Example Desc: 100%|██████████| 65764/65764 [05:16<00:00, 207.86it/s]\n"
          ]
        }
      ]
    },
    {
      "cell_type": "code",
      "source": [
        "df = pd.read_pickle('/content/drive/MyDrive/mypickle2')"
      ],
      "metadata": {
        "id": "WU9-G6E8EjUX"
      },
      "execution_count": null,
      "outputs": []
    },
    {
      "cell_type": "code",
      "source": [
        "df.head()"
      ],
      "metadata": {
        "colab": {
          "base_uri": "https://localhost:8080/",
          "height": 337
        },
        "id": "esJci0JnFRyg",
        "outputId": "d8883e9a-7022-430a-fcba-9fd17b6462af"
      },
      "execution_count": null,
      "outputs": [
        {
          "output_type": "execute_result",
          "data": {
            "text/plain": [
              "                                           sentences   text  \\\n",
              "0  Вот принесли эти задания в колледж, надо решит...  Tesak   \n",
              "1  Когда-то у меня по химии была пятерка, а я по ...  Tesak   \n",
              "2  На зоне не нужно больше знать и уметь, кроме с...  Tesak   \n",
              "3  Только  я сказал, сразу меня начали просить по...  Tesak   \n",
              "4  Мы садимся, я открываю эти задачи и понимаю, ч...  Tesak   \n",
              "\n",
              "                                                 ner  \\\n",
              "0  [(Вот, O), (принесли, O), (эти, O), (задания, ...   \n",
              "1  [(Когда-то, O), (у, O), (меня, O), (по, O), (х...   \n",
              "2  [(На, O), (зоне, O), (не, O), (нужно, O), (бол...   \n",
              "3  [(Только, O), (я, O), (сказал, O), (,, O), (ср...   \n",
              "4  [(Мы, O), (садимся, O), (,, O), (я, O), (откры...   \n",
              "\n",
              "                                              tokens  \\\n",
              "0  [Вот, принесли, эти, задания, в, колледж, ,, н...   \n",
              "1  [Когда-то, у, меня, по, химии, была, пятерка, ...   \n",
              "2  [На, зоне, не, нужно, больше, знать, и, уметь,...   \n",
              "3  [Только, я, сказал, ,, сразу, меня, начали, пр...   \n",
              "4  [Мы, садимся, ,, я, открываю, эти, задачи, и, ...   \n",
              "\n",
              "                                                tags  \\\n",
              "0  [(Вот, PRCL), (принесли, VERB), (эти, ADJF), (...   \n",
              "1  [(Когда-то, ADVB), (у, PREP), (меня, NPRO), (п...   \n",
              "2  [(На, PREP), (зоне, NOUN), (не, PRCL), (нужно,...   \n",
              "3  [(Только, PRCL), (я, NPRO), (сказал, VERB), (,...   \n",
              "4  [(Мы, NPRO), (садимся, VERB), (,, None), (я, N...   \n",
              "\n",
              "                                             ner_new ner_final  \n",
              "0  [(Вот, O), (принесли, O), (эти, O), (задания, ...        []  \n",
              "1  [(Когда-то, O), (у, O), (меня, O), (по, O), (х...        []  \n",
              "2  [(На, O), (зоне, O), (не, O), (нужно, O), (бол...        []  \n",
              "3  [(Только, O), (я, O), (сказал, O), (,, O), (ср...        []  \n",
              "4  [(Мы, O), (садимся, O), (,, O), (я, O), (откры...        []  "
            ],
            "text/html": [
              "\n",
              "  <div id=\"df-ef19bb40-3413-439f-98d5-a838e0c382d6\">\n",
              "    <div class=\"colab-df-container\">\n",
              "      <div>\n",
              "<style scoped>\n",
              "    .dataframe tbody tr th:only-of-type {\n",
              "        vertical-align: middle;\n",
              "    }\n",
              "\n",
              "    .dataframe tbody tr th {\n",
              "        vertical-align: top;\n",
              "    }\n",
              "\n",
              "    .dataframe thead th {\n",
              "        text-align: right;\n",
              "    }\n",
              "</style>\n",
              "<table border=\"1\" class=\"dataframe\">\n",
              "  <thead>\n",
              "    <tr style=\"text-align: right;\">\n",
              "      <th></th>\n",
              "      <th>sentences</th>\n",
              "      <th>text</th>\n",
              "      <th>ner</th>\n",
              "      <th>tokens</th>\n",
              "      <th>tags</th>\n",
              "      <th>ner_new</th>\n",
              "      <th>ner_final</th>\n",
              "    </tr>\n",
              "  </thead>\n",
              "  <tbody>\n",
              "    <tr>\n",
              "      <th>0</th>\n",
              "      <td>Вот принесли эти задания в колледж, надо решит...</td>\n",
              "      <td>Tesak</td>\n",
              "      <td>[(Вот, O), (принесли, O), (эти, O), (задания, ...</td>\n",
              "      <td>[Вот, принесли, эти, задания, в, колледж, ,, н...</td>\n",
              "      <td>[(Вот, PRCL), (принесли, VERB), (эти, ADJF), (...</td>\n",
              "      <td>[(Вот, O), (принесли, O), (эти, O), (задания, ...</td>\n",
              "      <td>[]</td>\n",
              "    </tr>\n",
              "    <tr>\n",
              "      <th>1</th>\n",
              "      <td>Когда-то у меня по химии была пятерка, а я по ...</td>\n",
              "      <td>Tesak</td>\n",
              "      <td>[(Когда-то, O), (у, O), (меня, O), (по, O), (х...</td>\n",
              "      <td>[Когда-то, у, меня, по, химии, была, пятерка, ...</td>\n",
              "      <td>[(Когда-то, ADVB), (у, PREP), (меня, NPRO), (п...</td>\n",
              "      <td>[(Когда-то, O), (у, O), (меня, O), (по, O), (х...</td>\n",
              "      <td>[]</td>\n",
              "    </tr>\n",
              "    <tr>\n",
              "      <th>2</th>\n",
              "      <td>На зоне не нужно больше знать и уметь, кроме с...</td>\n",
              "      <td>Tesak</td>\n",
              "      <td>[(На, O), (зоне, O), (не, O), (нужно, O), (бол...</td>\n",
              "      <td>[На, зоне, не, нужно, больше, знать, и, уметь,...</td>\n",
              "      <td>[(На, PREP), (зоне, NOUN), (не, PRCL), (нужно,...</td>\n",
              "      <td>[(На, O), (зоне, O), (не, O), (нужно, O), (бол...</td>\n",
              "      <td>[]</td>\n",
              "    </tr>\n",
              "    <tr>\n",
              "      <th>3</th>\n",
              "      <td>Только  я сказал, сразу меня начали просить по...</td>\n",
              "      <td>Tesak</td>\n",
              "      <td>[(Только, O), (я, O), (сказал, O), (,, O), (ср...</td>\n",
              "      <td>[Только, я, сказал, ,, сразу, меня, начали, пр...</td>\n",
              "      <td>[(Только, PRCL), (я, NPRO), (сказал, VERB), (,...</td>\n",
              "      <td>[(Только, O), (я, O), (сказал, O), (,, O), (ср...</td>\n",
              "      <td>[]</td>\n",
              "    </tr>\n",
              "    <tr>\n",
              "      <th>4</th>\n",
              "      <td>Мы садимся, я открываю эти задачи и понимаю, ч...</td>\n",
              "      <td>Tesak</td>\n",
              "      <td>[(Мы, O), (садимся, O), (,, O), (я, O), (откры...</td>\n",
              "      <td>[Мы, садимся, ,, я, открываю, эти, задачи, и, ...</td>\n",
              "      <td>[(Мы, NPRO), (садимся, VERB), (,, None), (я, N...</td>\n",
              "      <td>[(Мы, O), (садимся, O), (,, O), (я, O), (откры...</td>\n",
              "      <td>[]</td>\n",
              "    </tr>\n",
              "  </tbody>\n",
              "</table>\n",
              "</div>\n",
              "      <button class=\"colab-df-convert\" onclick=\"convertToInteractive('df-ef19bb40-3413-439f-98d5-a838e0c382d6')\"\n",
              "              title=\"Convert this dataframe to an interactive table.\"\n",
              "              style=\"display:none;\">\n",
              "        \n",
              "  <svg xmlns=\"http://www.w3.org/2000/svg\" height=\"24px\"viewBox=\"0 0 24 24\"\n",
              "       width=\"24px\">\n",
              "    <path d=\"M0 0h24v24H0V0z\" fill=\"none\"/>\n",
              "    <path d=\"M18.56 5.44l.94 2.06.94-2.06 2.06-.94-2.06-.94-.94-2.06-.94 2.06-2.06.94zm-11 1L8.5 8.5l.94-2.06 2.06-.94-2.06-.94L8.5 2.5l-.94 2.06-2.06.94zm10 10l.94 2.06.94-2.06 2.06-.94-2.06-.94-.94-2.06-.94 2.06-2.06.94z\"/><path d=\"M17.41 7.96l-1.37-1.37c-.4-.4-.92-.59-1.43-.59-.52 0-1.04.2-1.43.59L10.3 9.45l-7.72 7.72c-.78.78-.78 2.05 0 2.83L4 21.41c.39.39.9.59 1.41.59.51 0 1.02-.2 1.41-.59l7.78-7.78 2.81-2.81c.8-.78.8-2.07 0-2.86zM5.41 20L4 18.59l7.72-7.72 1.47 1.35L5.41 20z\"/>\n",
              "  </svg>\n",
              "      </button>\n",
              "      \n",
              "  <style>\n",
              "    .colab-df-container {\n",
              "      display:flex;\n",
              "      flex-wrap:wrap;\n",
              "      gap: 12px;\n",
              "    }\n",
              "\n",
              "    .colab-df-convert {\n",
              "      background-color: #E8F0FE;\n",
              "      border: none;\n",
              "      border-radius: 50%;\n",
              "      cursor: pointer;\n",
              "      display: none;\n",
              "      fill: #1967D2;\n",
              "      height: 32px;\n",
              "      padding: 0 0 0 0;\n",
              "      width: 32px;\n",
              "    }\n",
              "\n",
              "    .colab-df-convert:hover {\n",
              "      background-color: #E2EBFA;\n",
              "      box-shadow: 0px 1px 2px rgba(60, 64, 67, 0.3), 0px 1px 3px 1px rgba(60, 64, 67, 0.15);\n",
              "      fill: #174EA6;\n",
              "    }\n",
              "\n",
              "    [theme=dark] .colab-df-convert {\n",
              "      background-color: #3B4455;\n",
              "      fill: #D2E3FC;\n",
              "    }\n",
              "\n",
              "    [theme=dark] .colab-df-convert:hover {\n",
              "      background-color: #434B5C;\n",
              "      box-shadow: 0px 1px 3px 1px rgba(0, 0, 0, 0.15);\n",
              "      filter: drop-shadow(0px 1px 2px rgba(0, 0, 0, 0.3));\n",
              "      fill: #FFFFFF;\n",
              "    }\n",
              "  </style>\n",
              "\n",
              "      <script>\n",
              "        const buttonEl =\n",
              "          document.querySelector('#df-ef19bb40-3413-439f-98d5-a838e0c382d6 button.colab-df-convert');\n",
              "        buttonEl.style.display =\n",
              "          google.colab.kernel.accessAllowed ? 'block' : 'none';\n",
              "\n",
              "        async function convertToInteractive(key) {\n",
              "          const element = document.querySelector('#df-ef19bb40-3413-439f-98d5-a838e0c382d6');\n",
              "          const dataTable =\n",
              "            await google.colab.kernel.invokeFunction('convertToInteractive',\n",
              "                                                     [key], {});\n",
              "          if (!dataTable) return;\n",
              "\n",
              "          const docLinkHtml = 'Like what you see? Visit the ' +\n",
              "            '<a target=\"_blank\" href=https://colab.research.google.com/notebooks/data_table.ipynb>data table notebook</a>'\n",
              "            + ' to learn more about interactive tables.';\n",
              "          element.innerHTML = '';\n",
              "          dataTable['output_type'] = 'display_data';\n",
              "          await google.colab.output.renderOutput(dataTable, element);\n",
              "          const docLink = document.createElement('div');\n",
              "          docLink.innerHTML = docLinkHtml;\n",
              "          element.appendChild(docLink);\n",
              "        }\n",
              "      </script>\n",
              "    </div>\n",
              "  </div>\n",
              "  "
            ]
          },
          "metadata": {},
          "execution_count": 7
        }
      ]
    },
    {
      "cell_type": "code",
      "source": [
        "def shiterator(d):\n",
        "  my_lst = []\n",
        "  for i in d:\n",
        "    \n",
        "    if i[1] != 'O':\n",
        "      my_lst.append(i)\n",
        "  return my_lst"
      ],
      "metadata": {
        "id": "3e8NVYBTWHDr"
      },
      "execution_count": null,
      "outputs": []
    },
    {
      "cell_type": "code",
      "source": [
        "def shiterator2(d):\n",
        "  my_lst = []\n",
        "  new_key = ''\n",
        "  for i in d:\n",
        "    if i[1] == 'B-PER':\n",
        "      new_key = i[0]\n",
        "      my_lst.append((i[0], 'PER'))\n",
        "    elif i[1] == 'I-PER':\n",
        "      if new_key != '':\n",
        "        final_key = new_key + ' ' + i[0]\n",
        "        final_value = 'PER'\n",
        "        my_lst.pop(-1)\n",
        "        my_lst.append((final_key, final_value))\n",
        "        new_key = ''\n",
        "      else:\n",
        "        new_key = ''\n",
        "        my_lst.append((i[0], 'PER'))\n",
        "    else:\n",
        "      new_key = ''\n",
        "      my_lst.append((i[0], i[1]))\n",
        "  return my_lst"
      ],
      "metadata": {
        "id": "knsil9j2WMTl"
      },
      "execution_count": null,
      "outputs": []
    },
    {
      "cell_type": "code",
      "source": [
        "def shiterator3(d):\n",
        "  my_lst = []\n",
        "  new_key = ''\n",
        "  for i in d:\n",
        "    if i[1] == 'B-LOC':\n",
        "      new_key = i[0]\n",
        "      my_lst.append((i[0], 'LOC'))\n",
        "    elif i[1] == 'I-LOC':\n",
        "      if new_key != '':\n",
        "        final_key = new_key + ' ' + i[0]\n",
        "        final_value = 'LOC'\n",
        "        my_lst.pop(-1)\n",
        "        my_lst.append((final_key, final_value))\n",
        "        new_key = ''\n",
        "      else:\n",
        "        new_key = ''\n",
        "        my_lst.append((i[0], 'LOC'))\n",
        "    else:\n",
        "      new_key = ''\n",
        "      my_lst.append((i[0], i[1]))\n",
        "  return my_lst"
      ],
      "metadata": {
        "id": "rN8fe7J3FfMK"
      },
      "execution_count": null,
      "outputs": []
    },
    {
      "cell_type": "code",
      "source": [
        "def shiterator4(d):\n",
        "  my_lst = []\n",
        "  new_key = ''\n",
        "  for i in d:\n",
        "    if i[1] == 'B-ORG':\n",
        "      new_key = i[0]\n",
        "      my_lst.append((i[0], 'ORG'))\n",
        "    elif i[1] == 'I-ORG':\n",
        "      if new_key != '':\n",
        "        final_key = new_key + ' ' + i[0]\n",
        "        final_value = 'ORG'\n",
        "        my_lst.pop(-1)\n",
        "        my_lst.append((final_key, final_value))\n",
        "        new_key = ''\n",
        "      else:\n",
        "        new_key = ''\n",
        "        my_lst.append((i[0], 'ORG'))\n",
        "    else:\n",
        "      new_key = ''\n",
        "      my_lst.append((i[0], i[1]))\n",
        "  return my_lst"
      ],
      "metadata": {
        "id": "2brfzGA3Fqbd"
      },
      "execution_count": null,
      "outputs": []
    },
    {
      "cell_type": "code",
      "source": [
        "df['ner_new'] = df.ner_new.progress_apply(shiterator4)"
      ],
      "metadata": {
        "id": "hykOMKAnPMY4",
        "colab": {
          "base_uri": "https://localhost:8080/"
        },
        "outputId": "2fde552e-0efa-4542-8aa1-c3a9ed7d69a7"
      },
      "execution_count": null,
      "outputs": [
        {
          "output_type": "stream",
          "name": "stderr",
          "text": [
            "Example Desc: 100%|██████████| 65764/65764 [00:02<00:00, 32312.83it/s]\n"
          ]
        }
      ]
    },
    {
      "cell_type": "code",
      "source": [
        "df['ner_final'] = df.ner_new.progress_apply(shiterator)"
      ],
      "metadata": {
        "id": "l2KPudkUUig2",
        "colab": {
          "base_uri": "https://localhost:8080/"
        },
        "outputId": "507fdd89-dd96-4771-af60-52166818ac17"
      },
      "execution_count": null,
      "outputs": [
        {
          "output_type": "stream",
          "name": "stderr",
          "text": [
            "Example Desc: 100%|██████████| 65764/65764 [00:00<00:00, 170227.57it/s]\n"
          ]
        }
      ]
    },
    {
      "cell_type": "code",
      "source": [
        "df.to_pickle('mypickle3')"
      ],
      "metadata": {
        "id": "0kiLKxp2Upvn"
      },
      "execution_count": null,
      "outputs": []
    }
  ]
}